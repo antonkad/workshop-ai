{
 "cells": [
  {
   "cell_type": "code",
   "execution_count": null,
   "metadata": {},
   "outputs": [],
   "source": [
    "import pandas as pd\n",
    "from faker import Factory\n",
    "fake = Factory.create()\n",
    "from random import randint\n",
    "from operator import methodcaller\n",
    "import matplotlib.pyplot as plt\n",
    "import numpy as np\n",
    "import math\n",
    "import matplotlib.mlab as mlab"
   ]
  },
  {
   "cell_type": "code",
   "execution_count": null,
   "metadata": {},
   "outputs": [],
   "source": [
    "from scipy.stats import truncnorm\n",
    "\n",
    "def get_truncated_normal(mean=0, sd=1, low=0, upp=10):\n",
    "    return truncnorm(\n",
    "        (low - mean) / sd, (upp - mean) / sd, loc=mean, scale=sd)"
   ]
  },
  {
   "cell_type": "code",
   "execution_count": null,
   "metadata": {},
   "outputs": [],
   "source": [
    "#Temps depuis clickez pour commencer\n",
    "#Moyenne de temps des clicks\n",
    "#nb retour sur la page d'acceuil\n",
    "#nb retour page precedente\n",
    "#nb validation avec formulaire non conforme\n",
    "#temps sans regarder l'ecran\n",
    "#nbFois confusion detecté\n",
    "rowSize=300\n",
    "owners = pd.DataFrame(index=range(1,rowSize))\n",
    "owners.index.name='id'\n",
    "owners['label'] = owners.index.map(lambda x : randint(0, 1))\n",
    "owners.head()\n",
    "\n",
    "tmpCompetent = get_truncated_normal(mean=3, sd=2, low=0, upp=10)\n",
    "tmpIncompetent = get_truncated_normal(mean=8, sd=2, low=0, upp=30)\n",
    "\n",
    "nbRetourCompetent = get_truncated_normal(mean=0, sd=1, low=0, upp=3)\n",
    "nbRetourIncompetent = get_truncated_normal(mean=10, sd=5, low=0, upp=20)\n",
    "\n",
    "nbRetourPagePrecedenteCompetent = get_truncated_normal(mean=0, sd=2, low=0, upp=6)\n",
    "nbRetourPagePrecedenteIncompetent = get_truncated_normal(mean=10, sd=5, low=0, upp=20)\n",
    "\n",
    "for index, row in owners.iterrows():\n",
    "\n",
    "    if row.label==0:\n",
    "        chrono = randint(0, 60) + int(tmpCompetent.rvs())*60 #+ temps sans regarder ecran\n",
    "        nbRetour = int(nbRetourCompetent.rvs())\n",
    "        nbRetourPagePrecedente = int(nbRetourPagePrecedenteCompetent.rvs())\n",
    "    else:\n",
    "        chrono = randint(0, 60) + int(tmpIncompetent.rvs())*60\n",
    "        nbRetour= int(nbRetourIncompetent.rvs())\n",
    "        nbRetourPagePrecedente = int(nbRetourPagePrecedenteIncompetent.rvs())\n",
    "        \n",
    "        \n",
    "    owners.set_value(index,'chrono',chrono)\n",
    "    owners.set_value(index,'nbRetour',nbRetour)\n",
    "    owners.set_value(index,'nbRetourPagePrecedente',nbRetourPagePrecedente)\n",
    "owners.head()"
   ]
  }
 ],
 "metadata": {
  "kernelspec": {
   "display_name": "Python 3",
   "language": "python",
   "name": "python3"
  },
  "language_info": {
   "codemirror_mode": {
    "name": "ipython",
    "version": 3
   },
   "file_extension": ".py",
   "mimetype": "text/x-python",
   "name": "python",
   "nbconvert_exporter": "python",
   "pygments_lexer": "ipython3",
   "version": "3.6.4"
  }
 },
 "nbformat": 4,
 "nbformat_minor": 2
}
