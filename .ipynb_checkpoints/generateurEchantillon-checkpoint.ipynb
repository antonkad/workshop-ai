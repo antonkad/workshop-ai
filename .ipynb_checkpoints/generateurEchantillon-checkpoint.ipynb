{
 "cells": [
  {
   "cell_type": "code",
   "execution_count": 15,
   "metadata": {},
   "outputs": [],
   "source": [
    "import pandas as pd\n",
    "from faker import Factory\n",
    "fake = Factory.create()\n",
    "from random import randint\n",
    "from operator import methodcaller\n",
    "import matplotlib.pyplot as plt\n",
    "import numpy as np\n",
    "import math\n",
    "import json\n",
    "\n",
    "import matplotlib.mlab as mlab"
   ]
  },
  {
   "cell_type": "code",
   "execution_count": 16,
   "metadata": {},
   "outputs": [],
   "source": [
    "from scipy.stats import truncnorm\n",
    "\n",
    "def get_truncated_normal(mean=0, sd=1, low=0, upp=10):\n",
    "    return truncnorm(\n",
    "        (low - mean) / sd, (upp - mean) / sd, loc=mean, scale=sd)"
   ]
  },
  {
   "cell_type": "code",
   "execution_count": 17,
   "metadata": {},
   "outputs": [
    {
     "name": "stderr",
     "output_type": "stream",
     "text": [
      "C:\\Users\\Anton\\Anaconda3\\lib\\site-packages\\ipykernel_launcher.py:35: FutureWarning: set_value is deprecated and will be removed in a future release. Please use .at[] or .iat[] accessors instead\n",
      "C:\\Users\\Anton\\Anaconda3\\lib\\site-packages\\ipykernel_launcher.py:36: FutureWarning: set_value is deprecated and will be removed in a future release. Please use .at[] or .iat[] accessors instead\n",
      "C:\\Users\\Anton\\Anaconda3\\lib\\site-packages\\ipykernel_launcher.py:37: FutureWarning: set_value is deprecated and will be removed in a future release. Please use .at[] or .iat[] accessors instead\n"
     ]
    },
    {
     "data": {
      "text/html": [
       "<div>\n",
       "<style scoped>\n",
       "    .dataframe tbody tr th:only-of-type {\n",
       "        vertical-align: middle;\n",
       "    }\n",
       "\n",
       "    .dataframe tbody tr th {\n",
       "        vertical-align: top;\n",
       "    }\n",
       "\n",
       "    .dataframe thead th {\n",
       "        text-align: right;\n",
       "    }\n",
       "</style>\n",
       "<table border=\"1\" class=\"dataframe\">\n",
       "  <thead>\n",
       "    <tr style=\"text-align: right;\">\n",
       "      <th></th>\n",
       "      <th>label</th>\n",
       "      <th>chrono</th>\n",
       "      <th>nbRetour</th>\n",
       "      <th>nbRetourPagePrecedente</th>\n",
       "    </tr>\n",
       "    <tr>\n",
       "      <th>id</th>\n",
       "      <th></th>\n",
       "      <th></th>\n",
       "      <th></th>\n",
       "      <th></th>\n",
       "    </tr>\n",
       "  </thead>\n",
       "  <tbody>\n",
       "    <tr>\n",
       "      <th>1</th>\n",
       "      <td>0</td>\n",
       "      <td>77.0</td>\n",
       "      <td>0.0</td>\n",
       "      <td>1.0</td>\n",
       "    </tr>\n",
       "    <tr>\n",
       "      <th>2</th>\n",
       "      <td>1</td>\n",
       "      <td>420.0</td>\n",
       "      <td>19.0</td>\n",
       "      <td>13.0</td>\n",
       "    </tr>\n",
       "    <tr>\n",
       "      <th>3</th>\n",
       "      <td>0</td>\n",
       "      <td>77.0</td>\n",
       "      <td>0.0</td>\n",
       "      <td>1.0</td>\n",
       "    </tr>\n",
       "    <tr>\n",
       "      <th>4</th>\n",
       "      <td>0</td>\n",
       "      <td>48.0</td>\n",
       "      <td>0.0</td>\n",
       "      <td>2.0</td>\n",
       "    </tr>\n",
       "    <tr>\n",
       "      <th>5</th>\n",
       "      <td>0</td>\n",
       "      <td>186.0</td>\n",
       "      <td>0.0</td>\n",
       "      <td>0.0</td>\n",
       "    </tr>\n",
       "  </tbody>\n",
       "</table>\n",
       "</div>"
      ],
      "text/plain": [
       "    label  chrono  nbRetour  nbRetourPagePrecedente\n",
       "id                                                 \n",
       "1       0    77.0       0.0                     1.0\n",
       "2       1   420.0      19.0                    13.0\n",
       "3       0    77.0       0.0                     1.0\n",
       "4       0    48.0       0.0                     2.0\n",
       "5       0   186.0       0.0                     0.0"
      ]
     },
     "execution_count": 17,
     "metadata": {},
     "output_type": "execute_result"
    }
   ],
   "source": [
    "#Temps depuis clickez pour commencer\n",
    "#Moyenne de temps des clicks\n",
    "#nb retour sur la page d'acceuil\n",
    "#nb retour page precedente\n",
    "#nb validation avec formulaire non conforme\n",
    "#temps sans regarder l'ecran\n",
    "#nbFois confusion detecté\n",
    "rowSize=300\n",
    "owners = pd.DataFrame(index=range(1,rowSize))\n",
    "owners.index.name='id'\n",
    "owners['label'] = owners.index.map(lambda x : randint(0, 1))\n",
    "owners.head()\n",
    "\n",
    "tmpCompetent = get_truncated_normal(mean=3, sd=2, low=0, upp=10)\n",
    "tmpIncompetent = get_truncated_normal(mean=8, sd=2, low=0, upp=30)\n",
    "\n",
    "nbRetourCompetent = get_truncated_normal(mean=0, sd=1, low=0, upp=3)\n",
    "nbRetourIncompetent = get_truncated_normal(mean=10, sd=5, low=0, upp=20)\n",
    "\n",
    "nbRetourPagePrecedenteCompetent = get_truncated_normal(mean=0, sd=2, low=0, upp=6)\n",
    "nbRetourPagePrecedenteIncompetent = get_truncated_normal(mean=10, sd=5, low=0, upp=20)\n",
    "\n",
    "for index, row in owners.iterrows():\n",
    "\n",
    "    if row.label==0:\n",
    "        chrono = randint(0, 60) + int(tmpCompetent.rvs())*60 #+ temps sans regarder ecran\n",
    "        nbRetour = int(nbRetourCompetent.rvs())\n",
    "        nbRetourPagePrecedente = int(nbRetourPagePrecedenteCompetent.rvs())\n",
    "    else:\n",
    "        chrono = randint(0, 60) + int(tmpIncompetent.rvs())*60\n",
    "        nbRetour= int(nbRetourIncompetent.rvs())\n",
    "        nbRetourPagePrecedente = int(nbRetourPagePrecedenteIncompetent.rvs())\n",
    "        \n",
    "        \n",
    "    owners.set_value(index,'chrono',chrono)\n",
    "    owners.set_value(index,'nbRetour',nbRetour)\n",
    "    owners.set_value(index,'nbRetourPagePrecedente',nbRetourPagePrecedente)\n",
    "owners.head()\n"
   ]
  },
  {
   "cell_type": "code",
   "execution_count": 20,
   "metadata": {},
   "outputs": [
    {
     "name": "stdout",
     "output_type": "stream",
     "text": [
      "[{\"id\":1,\"label\":0,\"chrono\":77.0,\"nbRetour\":0.0,\"nbRetourPagePrecedente\":1.0},{\"id\":2,\"label\":1,\"chrono\":420.0,\"nbRetour\":19.0,\"nbRetourPagePrecedente\":13.0},{\"id\":3,\"label\":0,\"chrono\":77.0,\"nbRetour\":0.0,\"nbRetourPagePrecedente\":1.0},{\"id\":4,\"label\":0,\"chrono\":48.0,\"nbRetour\":0.0,\"nbRetourPagePrecedente\":2.0},{\"id\":5,\"label\":0,\"chrono\":186.0,\"nbRetour\":0.0,\"nbRetourPagePrecedente\":0.0},{\"id\":6,\"label\":1,\"chrono\":611.0,\"nbRetour\":8.0,\"nbRetourPagePrecedente\":9.0},{\"id\":7,\"label\":1,\"chrono\":522.0,\"nbRetour\":9.0,\"nbRetourPagePrecedente\":8.0},{\"id\":8,\"label\":0,\"chrono\":281.0,\"nbRetour\":0.0,\"nbRetourPagePrecedente\":1.0},{\"id\":9,\"label\":0,\"chrono\":199.0,\"nbRetour\":0.0,\"nbRetourPagePrecedente\":1.0},{\"id\":10,\"label\":0,\"chrono\":226.0,\"nbRetour\":2.0,\"nbRetourPagePrecedente\":2.0},{\"id\":11,\"label\":0,\"chrono\":198.0,\"nbRetour\":1.0,\"nbRetourPagePrecedente\":1.0},{\"id\":12,\"label\":0,\"chrono\":6.0,\"nbRetour\":0.0,\"nbRetourPagePrecedente\":1.0},{\"id\":13,\"label\":0,\"chrono\":211.0,\"nbRetour\":0.0,\"nbRetourPagePrecedente\":3.0},{\"id\":14,\"label\":0,\"chrono\":255.0,\"nbRetour\":1.0,\"nbRetourPagePrecedente\":1.0},{\"id\":15,\"label\":0,\"chrono\":414.0,\"nbRetour\":0.0,\"nbRetourPagePrecedente\":1.0},{\"id\":16,\"label\":0,\"chrono\":71.0,\"nbRetour\":0.0,\"nbRetourPagePrecedente\":1.0},{\"id\":17,\"label\":1,\"chrono\":504.0,\"nbRetour\":3.0,\"nbRetourPagePrecedente\":5.0},{\"id\":18,\"label\":0,\"chrono\":194.0,\"nbRetour\":0.0,\"nbRetourPagePrecedente\":1.0},{\"id\":19,\"label\":1,\"chrono\":304.0,\"nbRetour\":11.0,\"nbRetourPagePrecedente\":5.0},{\"id\":20,\"label\":0,\"chrono\":52.0,\"nbRetour\":0.0,\"nbRetourPagePrecedente\":1.0},{\"id\":21,\"label\":1,\"chrono\":640.0,\"nbRetour\":10.0,\"nbRetourPagePrecedente\":10.0},{\"id\":22,\"label\":1,\"chrono\":380.0,\"nbRetour\":6.0,\"nbRetourPagePrecedente\":10.0},{\"id\":23,\"label\":1,\"chrono\":718.0,\"nbRetour\":17.0,\"nbRetourPagePrecedente\":13.0},{\"id\":24,\"label\":1,\"chrono\":641.0,\"nbRetour\":9.0,\"nbRetourPagePrecedente\":13.0},{\"id\":25,\"label\":1,\"chrono\":439.0,\"nbRetour\":10.0,\"nbRetourPagePrecedente\":0.0},{\"id\":26,\"label\":1,\"chrono\":654.0,\"nbRetour\":15.0,\"nbRetourPagePrecedente\":13.0},{\"id\":27,\"label\":0,\"chrono\":102.0,\"nbRetour\":1.0,\"nbRetourPagePrecedente\":1.0},{\"id\":28,\"label\":1,\"chrono\":523.0,\"nbRetour\":15.0,\"nbRetourPagePrecedente\":9.0},{\"id\":29,\"label\":1,\"chrono\":570.0,\"nbRetour\":2.0,\"nbRetourPagePrecedente\":10.0},{\"id\":30,\"label\":1,\"chrono\":559.0,\"nbRetour\":13.0,\"nbRetourPagePrecedente\":14.0},{\"id\":31,\"label\":1,\"chrono\":436.0,\"nbRetour\":16.0,\"nbRetourPagePrecedente\":6.0},{\"id\":32,\"label\":1,\"chrono\":389.0,\"nbRetour\":11.0,\"nbRetourPagePrecedente\":4.0},{\"id\":33,\"label\":1,\"chrono\":629.0,\"nbRetour\":2.0,\"nbRetourPagePrecedente\":10.0},{\"id\":34,\"label\":1,\"chrono\":451.0,\"nbRetour\":11.0,\"nbRetourPagePrecedente\":9.0},{\"id\":35,\"label\":1,\"chrono\":299.0,\"nbRetour\":14.0,\"nbRetourPagePrecedente\":11.0},{\"id\":36,\"label\":1,\"chrono\":403.0,\"nbRetour\":10.0,\"nbRetourPagePrecedente\":2.0},{\"id\":37,\"label\":1,\"chrono\":257.0,\"nbRetour\":12.0,\"nbRetourPagePrecedente\":15.0},{\"id\":38,\"label\":1,\"chrono\":379.0,\"nbRetour\":10.0,\"nbRetourPagePrecedente\":9.0},{\"id\":39,\"label\":1,\"chrono\":431.0,\"nbRetour\":16.0,\"nbRetourPagePrecedente\":15.0},{\"id\":40,\"label\":0,\"chrono\":47.0,\"nbRetour\":0.0,\"nbRetourPagePrecedente\":0.0},{\"id\":41,\"label\":1,\"chrono\":601.0,\"nbRetour\":14.0,\"nbRetourPagePrecedente\":9.0},{\"id\":42,\"label\":0,\"chrono\":174.0,\"nbRetour\":0.0,\"nbRetourPagePrecedente\":0.0},{\"id\":43,\"label\":1,\"chrono\":479.0,\"nbRetour\":4.0,\"nbRetourPagePrecedente\":9.0},{\"id\":44,\"label\":1,\"chrono\":492.0,\"nbRetour\":4.0,\"nbRetourPagePrecedente\":5.0},{\"id\":45,\"label\":0,\"chrono\":61.0,\"nbRetour\":0.0,\"nbRetourPagePrecedente\":0.0},{\"id\":46,\"label\":1,\"chrono\":480.0,\"nbRetour\":12.0,\"nbRetourPagePrecedente\":11.0},{\"id\":47,\"label\":1,\"chrono\":508.0,\"nbRetour\":12.0,\"nbRetourPagePrecedente\":6.0},{\"id\":48,\"label\":0,\"chrono\":232.0,\"nbRetour\":1.0,\"nbRetourPagePrecedente\":0.0},{\"id\":49,\"label\":1,\"chrono\":373.0,\"nbRetour\":12.0,\"nbRetourPagePrecedente\":16.0},{\"id\":50,\"label\":0,\"chrono\":284.0,\"nbRetour\":0.0,\"nbRetourPagePrecedente\":3.0},{\"id\":51,\"label\":1,\"chrono\":420.0,\"nbRetour\":12.0,\"nbRetourPagePrecedente\":12.0},{\"id\":52,\"label\":0,\"chrono\":67.0,\"nbRetour\":0.0,\"nbRetourPagePrecedente\":4.0},{\"id\":53,\"label\":1,\"chrono\":325.0,\"nbRetour\":3.0,\"nbRetourPagePrecedente\":12.0},{\"id\":54,\"label\":1,\"chrono\":401.0,\"nbRetour\":10.0,\"nbRetourPagePrecedente\":10.0},{\"id\":55,\"label\":1,\"chrono\":533.0,\"nbRetour\":14.0,\"nbRetourPagePrecedente\":5.0},{\"id\":56,\"label\":0,\"chrono\":67.0,\"nbRetour\":0.0,\"nbRetourPagePrecedente\":1.0},{\"id\":57,\"label\":1,\"chrono\":416.0,\"nbRetour\":12.0,\"nbRetourPagePrecedente\":12.0},{\"id\":58,\"label\":1,\"chrono\":798.0,\"nbRetour\":9.0,\"nbRetourPagePrecedente\":9.0},{\"id\":59,\"label\":1,\"chrono\":518.0,\"nbRetour\":11.0,\"nbRetourPagePrecedente\":2.0},{\"id\":60,\"label\":0,\"chrono\":79.0,\"nbRetour\":1.0,\"nbRetourPagePrecedente\":2.0},{\"id\":61,\"label\":0,\"chrono\":146.0,\"nbRetour\":2.0,\"nbRetourPagePrecedente\":1.0},{\"id\":62,\"label\":1,\"chrono\":734.0,\"nbRetour\":9.0,\"nbRetourPagePrecedente\":17.0},{\"id\":63,\"label\":1,\"chrono\":527.0,\"nbRetour\":9.0,\"nbRetourPagePrecedente\":14.0},{\"id\":64,\"label\":0,\"chrono\":128.0,\"nbRetour\":0.0,\"nbRetourPagePrecedente\":2.0},{\"id\":65,\"label\":0,\"chrono\":242.0,\"nbRetour\":0.0,\"nbRetourPagePrecedente\":0.0},{\"id\":66,\"label\":1,\"chrono\":669.0,\"nbRetour\":10.0,\"nbRetourPagePrecedente\":5.0},{\"id\":67,\"label\":0,\"chrono\":60.0,\"nbRetour\":1.0,\"nbRetourPagePrecedente\":0.0},{\"id\":68,\"label\":0,\"chrono\":117.0,\"nbRetour\":0.0,\"nbRetourPagePrecedente\":0.0},{\"id\":69,\"label\":1,\"chrono\":509.0,\"nbRetour\":16.0,\"nbRetourPagePrecedente\":6.0},{\"id\":70,\"label\":1,\"chrono\":505.0,\"nbRetour\":9.0,\"nbRetourPagePrecedente\":13.0},{\"id\":71,\"label\":0,\"chrono\":251.0,\"nbRetour\":1.0,\"nbRetourPagePrecedente\":2.0},{\"id\":72,\"label\":1,\"chrono\":572.0,\"nbRetour\":13.0,\"nbRetourPagePrecedente\":5.0},{\"id\":73,\"label\":0,\"chrono\":148.0,\"nbRetour\":0.0,\"nbRetourPagePrecedente\":3.0},{\"id\":74,\"label\":0,\"chrono\":285.0,\"nbRetour\":1.0,\"nbRetourPagePrecedente\":1.0},{\"id\":75,\"label\":1,\"chrono\":470.0,\"nbRetour\":15.0,\"nbRetourPagePrecedente\":15.0},{\"id\":76,\"label\":0,\"chrono\":86.0,\"nbRetour\":0.0,\"nbRetourPagePrecedente\":0.0},{\"id\":77,\"label\":1,\"chrono\":490.0,\"nbRetour\":13.0,\"nbRetourPagePrecedente\":9.0},{\"id\":78,\"label\":0,\"chrono\":78.0,\"nbRetour\":0.0,\"nbRetourPagePrecedente\":1.0},{\"id\":79,\"label\":0,\"chrono\":90.0,\"nbRetour\":0.0,\"nbRetourPagePrecedente\":0.0},{\"id\":80,\"label\":1,\"chrono\":302.0,\"nbRetour\":8.0,\"nbRetourPagePrecedente\":4.0},{\"id\":81,\"label\":0,\"chrono\":178.0,\"nbRetour\":0.0,\"nbRetourPagePrecedente\":1.0},{\"id\":82,\"label\":0,\"chrono\":288.0,\"nbRetour\":0.0,\"nbRetourPagePrecedente\":0.0},{\"id\":83,\"label\":1,\"chrono\":886.0,\"nbRetour\":7.0,\"nbRetourPagePrecedente\":9.0},{\"id\":84,\"label\":1,\"chrono\":540.0,\"nbRetour\":13.0,\"nbRetourPagePrecedente\":10.0},{\"id\":85,\"label\":0,\"chrono\":152.0,\"nbRetour\":1.0,\"nbRetourPagePrecedente\":1.0},{\"id\":86,\"label\":1,\"chrono\":433.0,\"nbRetour\":11.0,\"nbRetourPagePrecedente\":10.0},{\"id\":87,\"label\":1,\"chrono\":477.0,\"nbRetour\":14.0,\"nbRetourPagePrecedente\":14.0},{\"id\":88,\"label\":1,\"chrono\":595.0,\"nbRetour\":10.0,\"nbRetourPagePrecedente\":19.0},{\"id\":89,\"label\":1,\"chrono\":345.0,\"nbRetour\":18.0,\"nbRetourPagePrecedente\":8.0},{\"id\":90,\"label\":1,\"chrono\":701.0,\"nbRetour\":10.0,\"nbRetourPagePrecedente\":11.0},{\"id\":91,\"label\":1,\"chrono\":590.0,\"nbRetour\":9.0,\"nbRetourPagePrecedente\":4.0},{\"id\":92,\"label\":1,\"chrono\":396.0,\"nbRetour\":6.0,\"nbRetourPagePrecedente\":7.0},{\"id\":93,\"label\":1,\"chrono\":420.0,\"nbRetour\":16.0,\"nbRetourPagePrecedente\":11.0},{\"id\":94,\"label\":1,\"chrono\":654.0,\"nbRetour\":10.0,\"nbRetourPagePrecedente\":2.0},{\"id\":95,\"label\":1,\"chrono\":600.0,\"nbRetour\":7.0,\"nbRetourPagePrecedente\":11.0},{\"id\":96,\"label\":1,\"chrono\":426.0,\"nbRetour\":8.0,\"nbRetourPagePrecedente\":10.0},{\"id\":97,\"label\":0,\"chrono\":98.0,\"nbRetour\":0.0,\"nbRetourPagePrecedente\":2.0},{\"id\":98,\"label\":0,\"chrono\":167.0,\"nbRetour\":0.0,\"nbRetourPagePrecedente\":0.0},{\"id\":99,\"label\":1,\"chrono\":500.0,\"nbRetour\":11.0,\"nbRetourPagePrecedente\":10.0},{\"id\":100,\"label\":0,\"chrono\":287.0,\"nbRetour\":0.0,\"nbRetourPagePrecedente\":1.0},{\"id\":101,\"label\":0,\"chrono\":206.0,\"nbRetour\":0.0,\"nbRetourPagePrecedente\":1.0},{\"id\":102,\"label\":0,\"chrono\":219.0,\"nbRetour\":0.0,\"nbRetourPagePrecedente\":0.0},{\"id\":103,\"label\":0,\"chrono\":145.0,\"nbRetour\":1.0,\"nbRetourPagePrecedente\":0.0},{\"id\":104,\"label\":0,\"chrono\":120.0,\"nbRetour\":1.0,\"nbRetourPagePrecedente\":4.0},{\"id\":105,\"label\":0,\"chrono\":190.0,\"nbRetour\":2.0,\"nbRetourPagePrecedente\":1.0},{\"id\":106,\"label\":1,\"chrono\":635.0,\"nbRetour\":11.0,\"nbRetourPagePrecedente\":9.0},{\"id\":107,\"label\":1,\"chrono\":501.0,\"nbRetour\":1.0,\"nbRetourPagePrecedente\":15.0},{\"id\":108,\"label\":0,\"chrono\":28.0,\"nbRetour\":0.0,\"nbRetourPagePrecedente\":0.0},{\"id\":109,\"label\":0,\"chrono\":141.0,\"nbRetour\":0.0,\"nbRetourPagePrecedente\":0.0},{\"id\":110,\"label\":1,\"chrono\":445.0,\"nbRetour\":8.0,\"nbRetourPagePrecedente\":18.0},{\"id\":111,\"label\":0,\"chrono\":78.0,\"nbRetour\":0.0,\"nbRetourPagePrecedente\":0.0},{\"id\":112,\"label\":0,\"chrono\":90.0,\"nbRetour\":0.0,\"nbRetourPagePrecedente\":2.0},{\"id\":113,\"label\":0,\"chrono\":228.0,\"nbRetour\":0.0,\"nbRetourPagePrecedente\":0.0},{\"id\":114,\"label\":1,\"chrono\":466.0,\"nbRetour\":11.0,\"nbRetourPagePrecedente\":13.0},{\"id\":115,\"label\":1,\"chrono\":568.0,\"nbRetour\":6.0,\"nbRetourPagePrecedente\":15.0},{\"id\":116,\"label\":0,\"chrono\":293.0,\"nbRetour\":0.0,\"nbRetourPagePrecedente\":0.0},{\"id\":117,\"label\":0,\"chrono\":111.0,\"nbRetour\":0.0,\"nbRetourPagePrecedente\":3.0},{\"id\":118,\"label\":1,\"chrono\":392.0,\"nbRetour\":19.0,\"nbRetourPagePrecedente\":17.0},{\"id\":119,\"label\":1,\"chrono\":384.0,\"nbRetour\":11.0,\"nbRetourPagePrecedente\":11.0},{\"id\":120,\"label\":0,\"chrono\":100.0,\"nbRetour\":0.0,\"nbRetourPagePrecedente\":0.0},{\"id\":121,\"label\":0,\"chrono\":163.0,\"nbRetour\":0.0,\"nbRetourPagePrecedente\":0.0},{\"id\":122,\"label\":1,\"chrono\":524.0,\"nbRetour\":9.0,\"nbRetourPagePrecedente\":6.0},{\"id\":123,\"label\":0,\"chrono\":139.0,\"nbRetour\":1.0,\"nbRetourPagePrecedente\":2.0},{\"id\":124,\"label\":0,\"chrono\":128.0,\"nbRetour\":0.0,\"nbRetourPagePrecedente\":3.0},{\"id\":125,\"label\":1,\"chrono\":416.0,\"nbRetour\":7.0,\"nbRetourPagePrecedente\":6.0},{\"id\":126,\"label\":0,\"chrono\":135.0,\"nbRetour\":0.0,\"nbRetourPagePrecedente\":1.0},{\"id\":127,\"label\":1,\"chrono\":342.0,\"nbRetour\":8.0,\"nbRetourPagePrecedente\":8.0},{\"id\":128,\"label\":1,\"chrono\":436.0,\"nbRetour\":8.0,\"nbRetourPagePrecedente\":10.0},{\"id\":129,\"label\":0,\"chrono\":49.0,\"nbRetour\":0.0,\"nbRetourPagePrecedente\":2.0},{\"id\":130,\"label\":1,\"chrono\":585.0,\"nbRetour\":17.0,\"nbRetourPagePrecedente\":8.0},{\"id\":131,\"label\":1,\"chrono\":303.0,\"nbRetour\":16.0,\"nbRetourPagePrecedente\":8.0},{\"id\":132,\"label\":1,\"chrono\":374.0,\"nbRetour\":5.0,\"nbRetourPagePrecedente\":12.0},{\"id\":133,\"label\":0,\"chrono\":309.0,\"nbRetour\":0.0,\"nbRetourPagePrecedente\":4.0},{\"id\":134,\"label\":0,\"chrono\":109.0,\"nbRetour\":0.0,\"nbRetourPagePrecedente\":1.0},{\"id\":135,\"label\":0,\"chrono\":191.0,\"nbRetour\":1.0,\"nbRetourPagePrecedente\":1.0},{\"id\":136,\"label\":0,\"chrono\":73.0,\"nbRetour\":0.0,\"nbRetourPagePrecedente\":0.0},{\"id\":137,\"label\":1,\"chrono\":447.0,\"nbRetour\":11.0,\"nbRetourPagePrecedente\":1.0},{\"id\":138,\"label\":1,\"chrono\":575.0,\"nbRetour\":13.0,\"nbRetourPagePrecedente\":10.0},{\"id\":139,\"label\":1,\"chrono\":340.0,\"nbRetour\":16.0,\"nbRetourPagePrecedente\":7.0},{\"id\":140,\"label\":1,\"chrono\":463.0,\"nbRetour\":9.0,\"nbRetourPagePrecedente\":12.0},{\"id\":141,\"label\":0,\"chrono\":376.0,\"nbRetour\":0.0,\"nbRetourPagePrecedente\":0.0},{\"id\":142,\"label\":1,\"chrono\":347.0,\"nbRetour\":8.0,\"nbRetourPagePrecedente\":13.0},{\"id\":143,\"label\":1,\"chrono\":450.0,\"nbRetour\":11.0,\"nbRetourPagePrecedente\":8.0},{\"id\":144,\"label\":0,\"chrono\":67.0,\"nbRetour\":0.0,\"nbRetourPagePrecedente\":0.0},{\"id\":145,\"label\":1,\"chrono\":340.0,\"nbRetour\":12.0,\"nbRetourPagePrecedente\":6.0},{\"id\":146,\"label\":0,\"chrono\":341.0,\"nbRetour\":0.0,\"nbRetourPagePrecedente\":1.0},{\"id\":147,\"label\":1,\"chrono\":496.0,\"nbRetour\":0.0,\"nbRetourPagePrecedente\":10.0},{\"id\":148,\"label\":1,\"chrono\":559.0,\"nbRetour\":3.0,\"nbRetourPagePrecedente\":8.0},{\"id\":149,\"label\":0,\"chrono\":309.0,\"nbRetour\":1.0,\"nbRetourPagePrecedente\":1.0},{\"id\":150,\"label\":1,\"chrono\":509.0,\"nbRetour\":11.0,\"nbRetourPagePrecedente\":13.0},{\"id\":151,\"label\":0,\"chrono\":186.0,\"nbRetour\":0.0,\"nbRetourPagePrecedente\":3.0},{\"id\":152,\"label\":0,\"chrono\":41.0,\"nbRetour\":0.0,\"nbRetourPagePrecedente\":1.0},{\"id\":153,\"label\":1,\"chrono\":480.0,\"nbRetour\":10.0,\"nbRetourPagePrecedente\":8.0},{\"id\":154,\"label\":1,\"chrono\":456.0,\"nbRetour\":10.0,\"nbRetourPagePrecedente\":12.0},{\"id\":155,\"label\":0,\"chrono\":27.0,\"nbRetour\":1.0,\"nbRetourPagePrecedente\":2.0},{\"id\":156,\"label\":1,\"chrono\":529.0,\"nbRetour\":5.0,\"nbRetourPagePrecedente\":15.0},{\"id\":157,\"label\":1,\"chrono\":374.0,\"nbRetour\":8.0,\"nbRetourPagePrecedente\":14.0},{\"id\":158,\"label\":0,\"chrono\":199.0,\"nbRetour\":0.0,\"nbRetourPagePrecedente\":2.0},{\"id\":159,\"label\":0,\"chrono\":219.0,\"nbRetour\":0.0,\"nbRetourPagePrecedente\":2.0},{\"id\":160,\"label\":0,\"chrono\":196.0,\"nbRetour\":0.0,\"nbRetourPagePrecedente\":1.0},{\"id\":161,\"label\":0,\"chrono\":387.0,\"nbRetour\":1.0,\"nbRetourPagePrecedente\":0.0},{\"id\":162,\"label\":1,\"chrono\":524.0,\"nbRetour\":13.0,\"nbRetourPagePrecedente\":2.0},{\"id\":163,\"label\":0,\"chrono\":122.0,\"nbRetour\":0.0,\"nbRetourPagePrecedente\":3.0},{\"id\":164,\"label\":0,\"chrono\":108.0,\"nbRetour\":0.0,\"nbRetourPagePrecedente\":1.0},{\"id\":165,\"label\":1,\"chrono\":634.0,\"nbRetour\":10.0,\"nbRetourPagePrecedente\":12.0},{\"id\":166,\"label\":1,\"chrono\":386.0,\"nbRetour\":10.0,\"nbRetourPagePrecedente\":13.0},{\"id\":167,\"label\":1,\"chrono\":760.0,\"nbRetour\":5.0,\"nbRetourPagePrecedente\":15.0},{\"id\":168,\"label\":0,\"chrono\":240.0,\"nbRetour\":2.0,\"nbRetourPagePrecedente\":1.0},{\"id\":169,\"label\":1,\"chrono\":468.0,\"nbRetour\":11.0,\"nbRetourPagePrecedente\":6.0},{\"id\":170,\"label\":1,\"chrono\":433.0,\"nbRetour\":9.0,\"nbRetourPagePrecedente\":12.0},{\"id\":171,\"label\":1,\"chrono\":492.0,\"nbRetour\":10.0,\"nbRetourPagePrecedente\":14.0},{\"id\":172,\"label\":0,\"chrono\":126.0,\"nbRetour\":1.0,\"nbRetourPagePrecedente\":2.0},{\"id\":173,\"label\":0,\"chrono\":231.0,\"nbRetour\":1.0,\"nbRetourPagePrecedente\":5.0},{\"id\":174,\"label\":1,\"chrono\":438.0,\"nbRetour\":12.0,\"nbRetourPagePrecedente\":9.0},{\"id\":175,\"label\":1,\"chrono\":513.0,\"nbRetour\":16.0,\"nbRetourPagePrecedente\":7.0},{\"id\":176,\"label\":1,\"chrono\":773.0,\"nbRetour\":5.0,\"nbRetourPagePrecedente\":12.0},{\"id\":177,\"label\":0,\"chrono\":27.0,\"nbRetour\":0.0,\"nbRetourPagePrecedente\":0.0},{\"id\":178,\"label\":0,\"chrono\":61.0,\"nbRetour\":1.0,\"nbRetourPagePrecedente\":2.0},{\"id\":179,\"label\":0,\"chrono\":271.0,\"nbRetour\":1.0,\"nbRetourPagePrecedente\":0.0},{\"id\":180,\"label\":1,\"chrono\":428.0,\"nbRetour\":7.0,\"nbRetourPagePrecedente\":9.0},{\"id\":181,\"label\":0,\"chrono\":163.0,\"nbRetour\":0.0,\"nbRetourPagePrecedente\":1.0},{\"id\":182,\"label\":1,\"chrono\":654.0,\"nbRetour\":6.0,\"nbRetourPagePrecedente\":18.0},{\"id\":183,\"label\":0,\"chrono\":193.0,\"nbRetour\":0.0,\"nbRetourPagePrecedente\":3.0},{\"id\":184,\"label\":1,\"chrono\":448.0,\"nbRetour\":5.0,\"nbRetourPagePrecedente\":6.0},{\"id\":185,\"label\":1,\"chrono\":595.0,\"nbRetour\":8.0,\"nbRetourPagePrecedente\":18.0},{\"id\":186,\"label\":0,\"chrono\":416.0,\"nbRetour\":1.0,\"nbRetourPagePrecedente\":0.0},{\"id\":187,\"label\":0,\"chrono\":165.0,\"nbRetour\":2.0,\"nbRetourPagePrecedente\":0.0},{\"id\":188,\"label\":1,\"chrono\":575.0,\"nbRetour\":12.0,\"nbRetourPagePrecedente\":10.0},{\"id\":189,\"label\":1,\"chrono\":429.0,\"nbRetour\":8.0,\"nbRetourPagePrecedente\":10.0},{\"id\":190,\"label\":1,\"chrono\":400.0,\"nbRetour\":11.0,\"nbRetourPagePrecedente\":5.0},{\"id\":191,\"label\":1,\"chrono\":575.0,\"nbRetour\":17.0,\"nbRetourPagePrecedente\":11.0},{\"id\":192,\"label\":0,\"chrono\":156.0,\"nbRetour\":0.0,\"nbRetourPagePrecedente\":2.0},{\"id\":193,\"label\":1,\"chrono\":308.0,\"nbRetour\":10.0,\"nbRetourPagePrecedente\":14.0},{\"id\":194,\"label\":1,\"chrono\":477.0,\"nbRetour\":7.0,\"nbRetourPagePrecedente\":10.0},{\"id\":195,\"label\":1,\"chrono\":247.0,\"nbRetour\":9.0,\"nbRetourPagePrecedente\":19.0},{\"id\":196,\"label\":1,\"chrono\":516.0,\"nbRetour\":10.0,\"nbRetourPagePrecedente\":3.0},{\"id\":197,\"label\":1,\"chrono\":593.0,\"nbRetour\":14.0,\"nbRetourPagePrecedente\":10.0},{\"id\":198,\"label\":0,\"chrono\":353.0,\"nbRetour\":1.0,\"nbRetourPagePrecedente\":1.0},{\"id\":199,\"label\":0,\"chrono\":170.0,\"nbRetour\":2.0,\"nbRetourPagePrecedente\":2.0},{\"id\":200,\"label\":0,\"chrono\":126.0,\"nbRetour\":0.0,\"nbRetourPagePrecedente\":4.0},{\"id\":201,\"label\":0,\"chrono\":402.0,\"nbRetour\":1.0,\"nbRetourPagePrecedente\":1.0},{\"id\":202,\"label\":0,\"chrono\":384.0,\"nbRetour\":1.0,\"nbRetourPagePrecedente\":0.0},{\"id\":203,\"label\":1,\"chrono\":430.0,\"nbRetour\":13.0,\"nbRetourPagePrecedente\":15.0},{\"id\":204,\"label\":0,\"chrono\":183.0,\"nbRetour\":2.0,\"nbRetourPagePrecedente\":2.0},{\"id\":205,\"label\":1,\"chrono\":450.0,\"nbRetour\":12.0,\"nbRetourPagePrecedente\":7.0},{\"id\":206,\"label\":0,\"chrono\":14.0,\"nbRetour\":1.0,\"nbRetourPagePrecedente\":0.0},{\"id\":207,\"label\":0,\"chrono\":28.0,\"nbRetour\":0.0,\"nbRetourPagePrecedente\":4.0},{\"id\":208,\"label\":1,\"chrono\":162.0,\"nbRetour\":9.0,\"nbRetourPagePrecedente\":12.0},{\"id\":209,\"label\":1,\"chrono\":583.0,\"nbRetour\":7.0,\"nbRetourPagePrecedente\":17.0},{\"id\":210,\"label\":0,\"chrono\":175.0,\"nbRetour\":2.0,\"nbRetourPagePrecedente\":0.0},{\"id\":211,\"label\":0,\"chrono\":95.0,\"nbRetour\":0.0,\"nbRetourPagePrecedente\":0.0},{\"id\":212,\"label\":0,\"chrono\":178.0,\"nbRetour\":0.0,\"nbRetourPagePrecedente\":1.0},{\"id\":213,\"label\":1,\"chrono\":445.0,\"nbRetour\":13.0,\"nbRetourPagePrecedente\":7.0},{\"id\":214,\"label\":1,\"chrono\":435.0,\"nbRetour\":4.0,\"nbRetourPagePrecedente\":12.0},{\"id\":215,\"label\":0,\"chrono\":67.0,\"nbRetour\":0.0,\"nbRetourPagePrecedente\":1.0},{\"id\":216,\"label\":1,\"chrono\":599.0,\"nbRetour\":7.0,\"nbRetourPagePrecedente\":7.0},{\"id\":217,\"label\":1,\"chrono\":528.0,\"nbRetour\":12.0,\"nbRetourPagePrecedente\":7.0},{\"id\":218,\"label\":0,\"chrono\":259.0,\"nbRetour\":0.0,\"nbRetourPagePrecedente\":1.0},{\"id\":219,\"label\":1,\"chrono\":543.0,\"nbRetour\":7.0,\"nbRetourPagePrecedente\":10.0},{\"id\":220,\"label\":0,\"chrono\":270.0,\"nbRetour\":0.0,\"nbRetourPagePrecedente\":0.0},{\"id\":221,\"label\":0,\"chrono\":51.0,\"nbRetour\":2.0,\"nbRetourPagePrecedente\":1.0},{\"id\":222,\"label\":0,\"chrono\":346.0,\"nbRetour\":1.0,\"nbRetourPagePrecedente\":4.0},{\"id\":223,\"label\":1,\"chrono\":694.0,\"nbRetour\":18.0,\"nbRetourPagePrecedente\":14.0},{\"id\":224,\"label\":0,\"chrono\":180.0,\"nbRetour\":0.0,\"nbRetourPagePrecedente\":1.0},{\"id\":225,\"label\":1,\"chrono\":700.0,\"nbRetour\":3.0,\"nbRetourPagePrecedente\":13.0},{\"id\":226,\"label\":1,\"chrono\":602.0,\"nbRetour\":5.0,\"nbRetourPagePrecedente\":13.0},{\"id\":227,\"label\":1,\"chrono\":454.0,\"nbRetour\":9.0,\"nbRetourPagePrecedente\":6.0},{\"id\":228,\"label\":0,\"chrono\":348.0,\"nbRetour\":0.0,\"nbRetourPagePrecedente\":2.0},{\"id\":229,\"label\":0,\"chrono\":63.0,\"nbRetour\":0.0,\"nbRetourPagePrecedente\":1.0},{\"id\":230,\"label\":1,\"chrono\":446.0,\"nbRetour\":11.0,\"nbRetourPagePrecedente\":5.0},{\"id\":231,\"label\":1,\"chrono\":428.0,\"nbRetour\":5.0,\"nbRetourPagePrecedente\":9.0},{\"id\":232,\"label\":0,\"chrono\":213.0,\"nbRetour\":1.0,\"nbRetourPagePrecedente\":1.0},{\"id\":233,\"label\":1,\"chrono\":444.0,\"nbRetour\":19.0,\"nbRetourPagePrecedente\":9.0},{\"id\":234,\"label\":0,\"chrono\":282.0,\"nbRetour\":0.0,\"nbRetourPagePrecedente\":1.0},{\"id\":235,\"label\":1,\"chrono\":460.0,\"nbRetour\":7.0,\"nbRetourPagePrecedente\":6.0},{\"id\":236,\"label\":1,\"chrono\":396.0,\"nbRetour\":10.0,\"nbRetourPagePrecedente\":11.0},{\"id\":237,\"label\":1,\"chrono\":435.0,\"nbRetour\":11.0,\"nbRetourPagePrecedente\":10.0},{\"id\":238,\"label\":1,\"chrono\":497.0,\"nbRetour\":15.0,\"nbRetourPagePrecedente\":3.0},{\"id\":239,\"label\":1,\"chrono\":484.0,\"nbRetour\":6.0,\"nbRetourPagePrecedente\":9.0},{\"id\":240,\"label\":1,\"chrono\":569.0,\"nbRetour\":15.0,\"nbRetourPagePrecedente\":6.0},{\"id\":241,\"label\":1,\"chrono\":698.0,\"nbRetour\":18.0,\"nbRetourPagePrecedente\":8.0},{\"id\":242,\"label\":0,\"chrono\":403.0,\"nbRetour\":0.0,\"nbRetourPagePrecedente\":1.0},{\"id\":243,\"label\":1,\"chrono\":370.0,\"nbRetour\":14.0,\"nbRetourPagePrecedente\":13.0},{\"id\":244,\"label\":1,\"chrono\":413.0,\"nbRetour\":9.0,\"nbRetourPagePrecedente\":10.0},{\"id\":245,\"label\":1,\"chrono\":287.0,\"nbRetour\":6.0,\"nbRetourPagePrecedente\":11.0},{\"id\":246,\"label\":1,\"chrono\":400.0,\"nbRetour\":3.0,\"nbRetourPagePrecedente\":18.0},{\"id\":247,\"label\":0,\"chrono\":84.0,\"nbRetour\":0.0,\"nbRetourPagePrecedente\":0.0},{\"id\":248,\"label\":0,\"chrono\":0.0,\"nbRetour\":0.0,\"nbRetourPagePrecedente\":1.0},{\"id\":249,\"label\":1,\"chrono\":515.0,\"nbRetour\":6.0,\"nbRetourPagePrecedente\":9.0},{\"id\":250,\"label\":1,\"chrono\":698.0,\"nbRetour\":9.0,\"nbRetourPagePrecedente\":7.0},{\"id\":251,\"label\":1,\"chrono\":330.0,\"nbRetour\":18.0,\"nbRetourPagePrecedente\":7.0},{\"id\":252,\"label\":1,\"chrono\":528.0,\"nbRetour\":15.0,\"nbRetourPagePrecedente\":12.0},{\"id\":253,\"label\":0,\"chrono\":139.0,\"nbRetour\":0.0,\"nbRetourPagePrecedente\":1.0},{\"id\":254,\"label\":1,\"chrono\":490.0,\"nbRetour\":15.0,\"nbRetourPagePrecedente\":7.0},{\"id\":255,\"label\":0,\"chrono\":162.0,\"nbRetour\":1.0,\"nbRetourPagePrecedente\":1.0},{\"id\":256,\"label\":1,\"chrono\":308.0,\"nbRetour\":12.0,\"nbRetourPagePrecedente\":3.0},{\"id\":257,\"label\":0,\"chrono\":124.0,\"nbRetour\":1.0,\"nbRetourPagePrecedente\":1.0},{\"id\":258,\"label\":1,\"chrono\":638.0,\"nbRetour\":13.0,\"nbRetourPagePrecedente\":13.0},{\"id\":259,\"label\":1,\"chrono\":558.0,\"nbRetour\":9.0,\"nbRetourPagePrecedente\":9.0},{\"id\":260,\"label\":1,\"chrono\":365.0,\"nbRetour\":15.0,\"nbRetourPagePrecedente\":5.0},{\"id\":261,\"label\":1,\"chrono\":333.0,\"nbRetour\":15.0,\"nbRetourPagePrecedente\":6.0},{\"id\":262,\"label\":0,\"chrono\":177.0,\"nbRetour\":0.0,\"nbRetourPagePrecedente\":0.0},{\"id\":263,\"label\":0,\"chrono\":346.0,\"nbRetour\":1.0,\"nbRetourPagePrecedente\":1.0},{\"id\":264,\"label\":1,\"chrono\":469.0,\"nbRetour\":10.0,\"nbRetourPagePrecedente\":19.0},{\"id\":265,\"label\":1,\"chrono\":642.0,\"nbRetour\":12.0,\"nbRetourPagePrecedente\":3.0},{\"id\":266,\"label\":1,\"chrono\":543.0,\"nbRetour\":14.0,\"nbRetourPagePrecedente\":14.0},{\"id\":267,\"label\":0,\"chrono\":354.0,\"nbRetour\":0.0,\"nbRetourPagePrecedente\":2.0},{\"id\":268,\"label\":1,\"chrono\":311.0,\"nbRetour\":15.0,\"nbRetourPagePrecedente\":10.0},{\"id\":269,\"label\":1,\"chrono\":402.0,\"nbRetour\":9.0,\"nbRetourPagePrecedente\":17.0},{\"id\":270,\"label\":0,\"chrono\":321.0,\"nbRetour\":0.0,\"nbRetourPagePrecedente\":4.0},{\"id\":271,\"label\":0,\"chrono\":247.0,\"nbRetour\":0.0,\"nbRetourPagePrecedente\":0.0},{\"id\":272,\"label\":1,\"chrono\":448.0,\"nbRetour\":11.0,\"nbRetourPagePrecedente\":4.0},{\"id\":273,\"label\":1,\"chrono\":316.0,\"nbRetour\":11.0,\"nbRetourPagePrecedente\":14.0},{\"id\":274,\"label\":1,\"chrono\":532.0,\"nbRetour\":4.0,\"nbRetourPagePrecedente\":15.0},{\"id\":275,\"label\":0,\"chrono\":325.0,\"nbRetour\":0.0,\"nbRetourPagePrecedente\":5.0},{\"id\":276,\"label\":1,\"chrono\":407.0,\"nbRetour\":9.0,\"nbRetourPagePrecedente\":14.0},{\"id\":277,\"label\":1,\"chrono\":507.0,\"nbRetour\":10.0,\"nbRetourPagePrecedente\":11.0},{\"id\":278,\"label\":0,\"chrono\":213.0,\"nbRetour\":0.0,\"nbRetourPagePrecedente\":1.0},{\"id\":279,\"label\":0,\"chrono\":15.0,\"nbRetour\":0.0,\"nbRetourPagePrecedente\":0.0},{\"id\":280,\"label\":1,\"chrono\":523.0,\"nbRetour\":3.0,\"nbRetourPagePrecedente\":14.0},{\"id\":281,\"label\":1,\"chrono\":251.0,\"nbRetour\":7.0,\"nbRetourPagePrecedente\":8.0},{\"id\":282,\"label\":1,\"chrono\":404.0,\"nbRetour\":7.0,\"nbRetourPagePrecedente\":11.0},{\"id\":283,\"label\":1,\"chrono\":508.0,\"nbRetour\":8.0,\"nbRetourPagePrecedente\":2.0},{\"id\":284,\"label\":0,\"chrono\":39.0,\"nbRetour\":2.0,\"nbRetourPagePrecedente\":3.0},{\"id\":285,\"label\":0,\"chrono\":242.0,\"nbRetour\":0.0,\"nbRetourPagePrecedente\":4.0},{\"id\":286,\"label\":1,\"chrono\":660.0,\"nbRetour\":14.0,\"nbRetourPagePrecedente\":4.0},{\"id\":287,\"label\":1,\"chrono\":526.0,\"nbRetour\":15.0,\"nbRetourPagePrecedente\":11.0},{\"id\":288,\"label\":1,\"chrono\":846.0,\"nbRetour\":8.0,\"nbRetourPagePrecedente\":12.0},{\"id\":289,\"label\":1,\"chrono\":399.0,\"nbRetour\":2.0,\"nbRetourPagePrecedente\":12.0},{\"id\":290,\"label\":1,\"chrono\":628.0,\"nbRetour\":9.0,\"nbRetourPagePrecedente\":8.0},{\"id\":291,\"label\":0,\"chrono\":473.0,\"nbRetour\":0.0,\"nbRetourPagePrecedente\":1.0},{\"id\":292,\"label\":1,\"chrono\":263.0,\"nbRetour\":3.0,\"nbRetourPagePrecedente\":4.0},{\"id\":293,\"label\":0,\"chrono\":128.0,\"nbRetour\":0.0,\"nbRetourPagePrecedente\":3.0},{\"id\":294,\"label\":1,\"chrono\":261.0,\"nbRetour\":9.0,\"nbRetourPagePrecedente\":9.0},{\"id\":295,\"label\":1,\"chrono\":482.0,\"nbRetour\":8.0,\"nbRetourPagePrecedente\":12.0},{\"id\":296,\"label\":1,\"chrono\":387.0,\"nbRetour\":7.0,\"nbRetourPagePrecedente\":10.0},{\"id\":297,\"label\":0,\"chrono\":131.0,\"nbRetour\":0.0,\"nbRetourPagePrecedente\":4.0},{\"id\":298,\"label\":1,\"chrono\":286.0,\"nbRetour\":16.0,\"nbRetourPagePrecedente\":14.0},{\"id\":299,\"label\":1,\"chrono\":586.0,\"nbRetour\":4.0,\"nbRetourPagePrecedente\":12.0}]\n"
     ]
    }
   ],
   "source": [
    "print (owners.reset_index().to_json(orient='records'))\n",
    "with open('data.txt', 'w') as outfile:\n",
    "    json.dump(data, outfile)"
   ]
  },
  {
   "cell_type": "code",
   "execution_count": null,
   "metadata": {},
   "outputs": [],
   "source": []
  }
 ],
 "metadata": {
  "kernelspec": {
   "display_name": "Python 3",
   "language": "python",
   "name": "python3"
  },
  "language_info": {
   "codemirror_mode": {
    "name": "ipython",
    "version": 3
   },
   "file_extension": ".py",
   "mimetype": "text/x-python",
   "name": "python",
   "nbconvert_exporter": "python",
   "pygments_lexer": "ipython3",
   "version": "3.6.4"
  }
 },
 "nbformat": 4,
 "nbformat_minor": 2
}
