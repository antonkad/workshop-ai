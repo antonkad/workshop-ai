{
 "cells": [
  {
   "cell_type": "code",
   "execution_count": 6,
   "metadata": {},
   "outputs": [],
   "source": [
    "import pandas as pd\n",
    "from faker import Factory\n",
    "fake = Factory.create()\n",
    "from random import randint\n",
    "from operator import methodcaller\n",
    "import matplotlib.pyplot as plt\n",
    "import numpy as np\n",
    "import math\n",
    "import json\n",
    "\n",
    "import matplotlib.mlab as mlab"
   ]
  },
  {
   "cell_type": "code",
   "execution_count": 7,
   "metadata": {},
   "outputs": [],
   "source": [
    "from scipy.stats import truncnorm\n",
    "\n",
    "def get_truncated_normal(mean=0, sd=1, low=0, upp=10):\n",
    "    return truncnorm(\n",
    "        (low - mean) / sd, (upp - mean) / sd, loc=mean, scale=sd)"
   ]
  },
  {
   "cell_type": "code",
   "execution_count": 8,
   "metadata": {},
   "outputs": [
    {
     "name": "stderr",
     "output_type": "stream",
     "text": [
      "C:\\Users\\Anton\\Anaconda3\\lib\\site-packages\\ipykernel_launcher.py:35: FutureWarning: set_value is deprecated and will be removed in a future release. Please use .at[] or .iat[] accessors instead\n",
      "C:\\Users\\Anton\\Anaconda3\\lib\\site-packages\\ipykernel_launcher.py:36: FutureWarning: set_value is deprecated and will be removed in a future release. Please use .at[] or .iat[] accessors instead\n",
      "C:\\Users\\Anton\\Anaconda3\\lib\\site-packages\\ipykernel_launcher.py:37: FutureWarning: set_value is deprecated and will be removed in a future release. Please use .at[] or .iat[] accessors instead\n"
     ]
    },
    {
     "data": {
      "text/html": [
       "<div>\n",
       "<style scoped>\n",
       "    .dataframe tbody tr th:only-of-type {\n",
       "        vertical-align: middle;\n",
       "    }\n",
       "\n",
       "    .dataframe tbody tr th {\n",
       "        vertical-align: top;\n",
       "    }\n",
       "\n",
       "    .dataframe thead th {\n",
       "        text-align: right;\n",
       "    }\n",
       "</style>\n",
       "<table border=\"1\" class=\"dataframe\">\n",
       "  <thead>\n",
       "    <tr style=\"text-align: right;\">\n",
       "      <th></th>\n",
       "      <th>label</th>\n",
       "      <th>chrono</th>\n",
       "      <th>nbRetour</th>\n",
       "      <th>nbRetourPagePrecedente</th>\n",
       "    </tr>\n",
       "    <tr>\n",
       "      <th>id</th>\n",
       "      <th></th>\n",
       "      <th></th>\n",
       "      <th></th>\n",
       "      <th></th>\n",
       "    </tr>\n",
       "  </thead>\n",
       "  <tbody>\n",
       "    <tr>\n",
       "      <th>1</th>\n",
       "      <td>1</td>\n",
       "      <td>303.0</td>\n",
       "      <td>7.0</td>\n",
       "      <td>12.0</td>\n",
       "    </tr>\n",
       "    <tr>\n",
       "      <th>2</th>\n",
       "      <td>0</td>\n",
       "      <td>71.0</td>\n",
       "      <td>1.0</td>\n",
       "      <td>0.0</td>\n",
       "    </tr>\n",
       "    <tr>\n",
       "      <th>3</th>\n",
       "      <td>1</td>\n",
       "      <td>223.0</td>\n",
       "      <td>12.0</td>\n",
       "      <td>16.0</td>\n",
       "    </tr>\n",
       "    <tr>\n",
       "      <th>4</th>\n",
       "      <td>1</td>\n",
       "      <td>347.0</td>\n",
       "      <td>8.0</td>\n",
       "      <td>11.0</td>\n",
       "    </tr>\n",
       "    <tr>\n",
       "      <th>5</th>\n",
       "      <td>0</td>\n",
       "      <td>365.0</td>\n",
       "      <td>0.0</td>\n",
       "      <td>2.0</td>\n",
       "    </tr>\n",
       "  </tbody>\n",
       "</table>\n",
       "</div>"
      ],
      "text/plain": [
       "    label  chrono  nbRetour  nbRetourPagePrecedente\n",
       "id                                                 \n",
       "1       1   303.0       7.0                    12.0\n",
       "2       0    71.0       1.0                     0.0\n",
       "3       1   223.0      12.0                    16.0\n",
       "4       1   347.0       8.0                    11.0\n",
       "5       0   365.0       0.0                     2.0"
      ]
     },
     "execution_count": 8,
     "metadata": {},
     "output_type": "execute_result"
    }
   ],
   "source": [
    "#Temps depuis clickez pour commencer\n",
    "#Moyenne de temps des clicks\n",
    "#nb retour sur la page d'acceuil\n",
    "#nb retour page precedente\n",
    "#nb validation avec formulaire non conforme\n",
    "#temps sans regarder l'ecran\n",
    "#nbFois confusion detecté\n",
    "rowSize=300\n",
    "owners = pd.DataFrame(index=range(1,rowSize))\n",
    "owners.index.name='id'\n",
    "owners['label'] = owners.index.map(lambda x : randint(0, 1))\n",
    "owners.head()\n",
    "\n",
    "tmpCompetent = get_truncated_normal(mean=3, sd=2, low=0, upp=10)\n",
    "tmpIncompetent = get_truncated_normal(mean=8, sd=2, low=0, upp=30)\n",
    "\n",
    "nbRetourCompetent = get_truncated_normal(mean=0, sd=1, low=0, upp=3)\n",
    "nbRetourIncompetent = get_truncated_normal(mean=10, sd=5, low=0, upp=20)\n",
    "\n",
    "nbRetourPagePrecedenteCompetent = get_truncated_normal(mean=0, sd=2, low=0, upp=6)\n",
    "nbRetourPagePrecedenteIncompetent = get_truncated_normal(mean=10, sd=5, low=0, upp=20)\n",
    "\n",
    "for index, row in owners.iterrows():\n",
    "\n",
    "    if row.label==0:\n",
    "        chrono = randint(0, 60) + int(tmpCompetent.rvs())*60 #+ temps sans regarder ecran\n",
    "        nbRetour = int(nbRetourCompetent.rvs())\n",
    "        nbRetourPagePrecedente = int(nbRetourPagePrecedenteCompetent.rvs())\n",
    "    else:\n",
    "        chrono = randint(0, 60) + int(tmpIncompetent.rvs())*60\n",
    "        nbRetour= int(nbRetourIncompetent.rvs())\n",
    "        nbRetourPagePrecedente = int(nbRetourPagePrecedenteIncompetent.rvs())\n",
    "        \n",
    "        \n",
    "    owners.set_value(index,'chrono',chrono)\n",
    "    owners.set_value(index,'nbRetour',nbRetour)\n",
    "    owners.set_value(index,'nbRetourPagePrecedente',nbRetourPagePrecedente)\n",
    "owners.head()\n"
   ]
  },
  {
   "cell_type": "code",
   "execution_count": 9,
   "metadata": {},
   "outputs": [
    {
     "data": {
      "image/png": "[encoded data removed]",
      "text/plain": [
       "<matplotlib.figure.Figure at 0x2209e4d4668>"
      ]
     },
     "metadata": {},
     "output_type": "display_data"
    }
   ],
   "source": [
    "tmpCompetent = get_truncated_normal(mean=3, sd=2, low=0, upp=10)\n",
    "tmpIncompetent = get_truncated_normal(mean=8, sd=2, low=0, upp=30)\n",
    "\n",
    "nbRetourCompetent = get_truncated_normal(mean=0, sd=1, low=0, upp=3)\n",
    "\n",
    "\n",
    "fig, ax = plt.subplots(3, sharex=True)\n",
    "ax[0].hist(tmpCompetent.rvs(10000), normed=True)\n",
    "ax[1].hist(tmpIncompetent.rvs(10000), normed=True)\n",
    "ax[2].hist(nbRetourCompetent.rvs(10000), normed=True)\n",
    "plt.show()"
   ]
  },
  {
   "cell_type": "code",
   "execution_count": 10,
   "metadata": {},
   "outputs": [
    {
     "data": {
      "image/png": "[encoded data removed]",
      "text/plain": [
       "<matplotlib.figure.Figure at 0x2209e53b0f0>"
      ]
     },
     "metadata": {},
     "output_type": "display_data"
    }
   ],
   "source": [
    "nbRetourIncompetent = get_truncated_normal(mean=10, sd=5, low=0, upp=20)\n",
    "\n",
    "nbRetourPagePrecedenteCompetent = get_truncated_normal(mean=0, sd=2, low=0, upp=6)\n",
    "nbRetourPagePrecedenteIncompetent = get_truncated_normal(mean=10, sd=5, low=0, upp=20)\n",
    "\n",
    "fig, ax = plt.subplots(3, sharex=True)\n",
    "ax[0].hist(nbRetourIncompetent.rvs(10000), normed=True)\n",
    "ax[1].hist(nbRetourPagePrecedenteCompetent.rvs(10000), normed=True)\n",
    "ax[2].hist(nbRetourPagePrecedenteIncompetent.rvs(10000), normed=True)\n",
    "plt.show()"
   ]
  },
  {
   "cell_type": "code",
   "execution_count": 28,
   "metadata": {},
   "outputs": [
    {
     "name": "stdout",
     "output_type": "stream",
     "text": [
      "[{\"id\":1,\"label\":1,\"chrono\":654.0,\"nbRetour\":11.0,\"nbRetourPagePrecedente\":1.0},{\"id\":2,\"label\":0,\"chrono\":174.0,\"nbRetour\":0.0,\"nbRetourPagePrecedente\":2.0},{\"id\":3,\"label\":1,\"chrono\":419.0,\"nbRetour\":8.0,\"nbRetourPagePrecedente\":13.0},{\"id\":4,\"label\":0,\"chrono\":67.0,\"nbRetour\":0.0,\"nbRetourPagePrecedente\":2.0},{\"id\":5,\"label\":0,\"chrono\":245.0,\"nbRetour\":0.0,\"nbRetourPagePrecedente\":1.0},{\"id\":6,\"label\":1,\"chrono\":435.0,\"nbRetour\":9.0,\"nbRetourPagePrecedente\":2.0},{\"id\":7,\"label\":0,\"chrono\":162.0,\"nbRetour\":0.0,\"nbRetourPagePrecedente\":4.0},{\"id\":8,\"label\":1,\"chrono\":540.0,\"nbRetour\":11.0,\"nbRetourPagePrecedente\":9.0},{\"id\":9,\"label\":1,\"chrono\":494.0,\"nbRetour\":2.0,\"nbRetourPagePrecedente\":7.0},{\"id\":10,\"label\":1,\"chrono\":640.0,\"nbRetour\":11.0,\"nbRetourPagePrecedente\":6.0},{\"id\":11,\"label\":0,\"chrono\":269.0,\"nbRetour\":0.0,\"nbRetourPagePrecedente\":1.0},{\"id\":12,\"label\":1,\"chrono\":621.0,\"nbRetour\":9.0,\"nbRetourPagePrecedente\":11.0},{\"id\":13,\"label\":0,\"chrono\":142.0,\"nbRetour\":0.0,\"nbRetourPagePrecedente\":4.0},{\"id\":14,\"label\":0,\"chrono\":65.0,\"nbRetour\":1.0,\"nbRetourPagePrecedente\":0.0},{\"id\":15,\"label\":0,\"chrono\":183.0,\"nbRetour\":0.0,\"nbRetourPagePrecedente\":1.0},{\"id\":16,\"label\":0,\"chrono\":108.0,\"nbRetour\":0.0,\"nbRetourPagePrecedente\":2.0},{\"id\":17,\"label\":0,\"chrono\":328.0,\"nbRetour\":1.0,\"nbRetourPagePrecedente\":1.0},{\"id\":18,\"label\":1,\"chrono\":542.0,\"nbRetour\":11.0,\"nbRetourPagePrecedente\":13.0},{\"id\":19,\"label\":1,\"chrono\":319.0,\"nbRetour\":3.0,\"nbRetourPagePrecedente\":13.0},{\"id\":20,\"label\":0,\"chrono\":187.0,\"nbRetour\":0.0,\"nbRetourPagePrecedente\":0.0},{\"id\":21,\"label\":1,\"chrono\":688.0,\"nbRetour\":2.0,\"nbRetourPagePrecedente\":4.0},{\"id\":22,\"label\":1,\"chrono\":458.0,\"nbRetour\":7.0,\"nbRetourPagePrecedente\":7.0},{\"id\":23,\"label\":0,\"chrono\":354.0,\"nbRetour\":0.0,\"nbRetourPagePrecedente\":4.0},{\"id\":24,\"label\":0,\"chrono\":440.0,\"nbRetour\":0.0,\"nbRetourPagePrecedente\":1.0},{\"id\":25,\"label\":0,\"chrono\":277.0,\"nbRetour\":1.0,\"nbRetourPagePrecedente\":2.0},{\"id\":26,\"label\":1,\"chrono\":389.0,\"nbRetour\":6.0,\"nbRetourPagePrecedente\":14.0},{\"id\":27,\"label\":0,\"chrono\":52.0,\"nbRetour\":0.0,\"nbRetourPagePrecedente\":2.0},{\"id\":28,\"label\":0,\"chrono\":342.0,\"nbRetour\":0.0,\"nbRetourPagePrecedente\":0.0},{\"id\":29,\"label\":1,\"chrono\":239.0,\"nbRetour\":13.0,\"nbRetourPagePrecedente\":6.0},{\"id\":30,\"label\":1,\"chrono\":713.0,\"nbRetour\":11.0,\"nbRetourPagePrecedente\":2.0},{\"id\":31,\"label\":0,\"chrono\":85.0,\"nbRetour\":0.0,\"nbRetourPagePrecedente\":2.0},{\"id\":32,\"label\":0,\"chrono\":25.0,\"nbRetour\":1.0,\"nbRetourPagePrecedente\":0.0},{\"id\":33,\"label\":1,\"chrono\":305.0,\"nbRetour\":3.0,\"nbRetourPagePrecedente\":13.0},{\"id\":34,\"label\":0,\"chrono\":48.0,\"nbRetour\":1.0,\"nbRetourPagePrecedente\":0.0},{\"id\":35,\"label\":1,\"chrono\":485.0,\"nbRetour\":2.0,\"nbRetourPagePrecedente\":2.0},{\"id\":36,\"label\":1,\"chrono\":473.0,\"nbRetour\":15.0,\"nbRetourPagePrecedente\":7.0},{\"id\":37,\"label\":0,\"chrono\":281.0,\"nbRetour\":1.0,\"nbRetourPagePrecedente\":2.0},{\"id\":38,\"label\":1,\"chrono\":577.0,\"nbRetour\":11.0,\"nbRetourPagePrecedente\":15.0},{\"id\":39,\"label\":0,\"chrono\":33.0,\"nbRetour\":1.0,\"nbRetourPagePrecedente\":0.0},{\"id\":40,\"label\":0,\"chrono\":195.0,\"nbRetour\":1.0,\"nbRetourPagePrecedente\":0.0},{\"id\":41,\"label\":1,\"chrono\":518.0,\"nbRetour\":3.0,\"nbRetourPagePrecedente\":7.0},{\"id\":42,\"label\":1,\"chrono\":466.0,\"nbRetour\":9.0,\"nbRetourPagePrecedente\":11.0},{\"id\":43,\"label\":0,\"chrono\":150.0,\"nbRetour\":0.0,\"nbRetourPagePrecedente\":0.0},{\"id\":44,\"label\":0,\"chrono\":212.0,\"nbRetour\":0.0,\"nbRetourPagePrecedente\":3.0},{\"id\":45,\"label\":0,\"chrono\":178.0,\"nbRetour\":1.0,\"nbRetourPagePrecedente\":0.0},{\"id\":46,\"label\":0,\"chrono\":226.0,\"nbRetour\":0.0,\"nbRetourPagePrecedente\":0.0},{\"id\":47,\"label\":0,\"chrono\":313.0,\"nbRetour\":0.0,\"nbRetourPagePrecedente\":0.0},{\"id\":48,\"label\":0,\"chrono\":127.0,\"nbRetour\":0.0,\"nbRetourPagePrecedente\":0.0},{\"id\":49,\"label\":0,\"chrono\":223.0,\"nbRetour\":0.0,\"nbRetourPagePrecedente\":1.0},{\"id\":50,\"label\":1,\"chrono\":474.0,\"nbRetour\":10.0,\"nbRetourPagePrecedente\":12.0},{\"id\":51,\"label\":1,\"chrono\":463.0,\"nbRetour\":14.0,\"nbRetourPagePrecedente\":5.0},{\"id\":52,\"label\":0,\"chrono\":10.0,\"nbRetour\":0.0,\"nbRetourPagePrecedente\":0.0},{\"id\":53,\"label\":0,\"chrono\":270.0,\"nbRetour\":1.0,\"nbRetourPagePrecedente\":0.0},{\"id\":54,\"label\":0,\"chrono\":234.0,\"nbRetour\":0.0,\"nbRetourPagePrecedente\":0.0},{\"id\":55,\"label\":0,\"chrono\":218.0,\"nbRetour\":0.0,\"nbRetourPagePrecedente\":1.0},{\"id\":56,\"label\":1,\"chrono\":451.0,\"nbRetour\":6.0,\"nbRetourPagePrecedente\":16.0},{\"id\":57,\"label\":1,\"chrono\":559.0,\"nbRetour\":6.0,\"nbRetourPagePrecedente\":8.0},{\"id\":58,\"label\":0,\"chrono\":60.0,\"nbRetour\":0.0,\"nbRetourPagePrecedente\":0.0},{\"id\":59,\"label\":1,\"chrono\":660.0,\"nbRetour\":11.0,\"nbRetourPagePrecedente\":7.0},{\"id\":60,\"label\":1,\"chrono\":530.0,\"nbRetour\":19.0,\"nbRetourPagePrecedente\":8.0},{\"id\":61,\"label\":0,\"chrono\":157.0,\"nbRetour\":0.0,\"nbRetourPagePrecedente\":1.0},{\"id\":62,\"label\":0,\"chrono\":161.0,\"nbRetour\":0.0,\"nbRetourPagePrecedente\":2.0},{\"id\":63,\"label\":0,\"chrono\":150.0,\"nbRetour\":1.0,\"nbRetourPagePrecedente\":2.0},{\"id\":64,\"label\":0,\"chrono\":263.0,\"nbRetour\":0.0,\"nbRetourPagePrecedente\":0.0},{\"id\":65,\"label\":0,\"chrono\":119.0,\"nbRetour\":0.0,\"nbRetourPagePrecedente\":3.0},{\"id\":66,\"label\":0,\"chrono\":362.0,\"nbRetour\":0.0,\"nbRetourPagePrecedente\":3.0},{\"id\":67,\"label\":1,\"chrono\":638.0,\"nbRetour\":4.0,\"nbRetourPagePrecedente\":6.0},{\"id\":68,\"label\":1,\"chrono\":496.0,\"nbRetour\":9.0,\"nbRetourPagePrecedente\":11.0},{\"id\":69,\"label\":1,\"chrono\":302.0,\"nbRetour\":8.0,\"nbRetourPagePrecedente\":3.0},{\"id\":70,\"label\":1,\"chrono\":521.0,\"nbRetour\":8.0,\"nbRetourPagePrecedente\":13.0},{\"id\":71,\"label\":0,\"chrono\":172.0,\"nbRetour\":0.0,\"nbRetourPagePrecedente\":1.0},{\"id\":72,\"label\":0,\"chrono\":200.0,\"nbRetour\":0.0,\"nbRetourPagePrecedente\":2.0},{\"id\":73,\"label\":1,\"chrono\":258.0,\"nbRetour\":11.0,\"nbRetourPagePrecedente\":16.0},{\"id\":74,\"label\":1,\"chrono\":641.0,\"nbRetour\":7.0,\"nbRetourPagePrecedente\":1.0},{\"id\":75,\"label\":0,\"chrono\":192.0,\"nbRetour\":1.0,\"nbRetourPagePrecedente\":1.0},{\"id\":76,\"label\":1,\"chrono\":716.0,\"nbRetour\":7.0,\"nbRetourPagePrecedente\":12.0},{\"id\":77,\"label\":1,\"chrono\":555.0,\"nbRetour\":8.0,\"nbRetourPagePrecedente\":8.0},{\"id\":78,\"label\":1,\"chrono\":273.0,\"nbRetour\":7.0,\"nbRetourPagePrecedente\":15.0},{\"id\":79,\"label\":0,\"chrono\":220.0,\"nbRetour\":0.0,\"nbRetourPagePrecedente\":0.0},{\"id\":80,\"label\":1,\"chrono\":428.0,\"nbRetour\":10.0,\"nbRetourPagePrecedente\":5.0},{\"id\":81,\"label\":1,\"chrono\":191.0,\"nbRetour\":13.0,\"nbRetourPagePrecedente\":16.0},{\"id\":82,\"label\":1,\"chrono\":459.0,\"nbRetour\":10.0,\"nbRetourPagePrecedente\":3.0},{\"id\":83,\"label\":1,\"chrono\":326.0,\"nbRetour\":15.0,\"nbRetourPagePrecedente\":5.0},{\"id\":84,\"label\":0,\"chrono\":149.0,\"nbRetour\":2.0,\"nbRetourPagePrecedente\":1.0},{\"id\":85,\"label\":1,\"chrono\":446.0,\"nbRetour\":9.0,\"nbRetourPagePrecedente\":1.0},{\"id\":86,\"label\":1,\"chrono\":531.0,\"nbRetour\":8.0,\"nbRetourPagePrecedente\":10.0},{\"id\":87,\"label\":1,\"chrono\":503.0,\"nbRetour\":13.0,\"nbRetourPagePrecedente\":6.0},{\"id\":88,\"label\":1,\"chrono\":598.0,\"nbRetour\":11.0,\"nbRetourPagePrecedente\":17.0},{\"id\":89,\"label\":1,\"chrono\":541.0,\"nbRetour\":11.0,\"nbRetourPagePrecedente\":13.0},{\"id\":90,\"label\":1,\"chrono\":272.0,\"nbRetour\":11.0,\"nbRetourPagePrecedente\":12.0},{\"id\":91,\"label\":1,\"chrono\":538.0,\"nbRetour\":4.0,\"nbRetourPagePrecedente\":8.0},{\"id\":92,\"label\":0,\"chrono\":154.0,\"nbRetour\":0.0,\"nbRetourPagePrecedente\":0.0},{\"id\":93,\"label\":0,\"chrono\":214.0,\"nbRetour\":2.0,\"nbRetourPagePrecedente\":2.0},{\"id\":94,\"label\":1,\"chrono\":537.0,\"nbRetour\":11.0,\"nbRetourPagePrecedente\":3.0},{\"id\":95,\"label\":1,\"chrono\":427.0,\"nbRetour\":11.0,\"nbRetourPagePrecedente\":11.0},{\"id\":96,\"label\":0,\"chrono\":127.0,\"nbRetour\":0.0,\"nbRetourPagePrecedente\":0.0},{\"id\":97,\"label\":0,\"chrono\":29.0,\"nbRetour\":1.0,\"nbRetourPagePrecedente\":0.0},{\"id\":98,\"label\":1,\"chrono\":401.0,\"nbRetour\":6.0,\"nbRetourPagePrecedente\":12.0},{\"id\":99,\"label\":1,\"chrono\":639.0,\"nbRetour\":16.0,\"nbRetourPagePrecedente\":7.0},{\"id\":100,\"label\":1,\"chrono\":490.0,\"nbRetour\":5.0,\"nbRetourPagePrecedente\":9.0},{\"id\":101,\"label\":0,\"chrono\":247.0,\"nbRetour\":0.0,\"nbRetourPagePrecedente\":2.0},{\"id\":102,\"label\":1,\"chrono\":416.0,\"nbRetour\":7.0,\"nbRetourPagePrecedente\":15.0},{\"id\":103,\"label\":0,\"chrono\":121.0,\"nbRetour\":0.0,\"nbRetourPagePrecedente\":2.0},{\"id\":104,\"label\":1,\"chrono\":509.0,\"nbRetour\":14.0,\"nbRetourPagePrecedente\":5.0},{\"id\":105,\"label\":1,\"chrono\":482.0,\"nbRetour\":7.0,\"nbRetourPagePrecedente\":8.0},{\"id\":106,\"label\":0,\"chrono\":204.0,\"nbRetour\":1.0,\"nbRetourPagePrecedente\":1.0},{\"id\":107,\"label\":1,\"chrono\":532.0,\"nbRetour\":10.0,\"nbRetourPagePrecedente\":13.0},{\"id\":108,\"label\":0,\"chrono\":130.0,\"nbRetour\":1.0,\"nbRetourPagePrecedente\":2.0},{\"id\":109,\"label\":0,\"chrono\":352.0,\"nbRetour\":0.0,\"nbRetourPagePrecedente\":2.0},{\"id\":110,\"label\":1,\"chrono\":422.0,\"nbRetour\":4.0,\"nbRetourPagePrecedente\":6.0},{\"id\":111,\"label\":1,\"chrono\":314.0,\"nbRetour\":16.0,\"nbRetourPagePrecedente\":7.0},{\"id\":112,\"label\":0,\"chrono\":412.0,\"nbRetour\":0.0,\"nbRetourPagePrecedente\":0.0},{\"id\":113,\"label\":1,\"chrono\":385.0,\"nbRetour\":16.0,\"nbRetourPagePrecedente\":2.0},{\"id\":114,\"label\":0,\"chrono\":175.0,\"nbRetour\":0.0,\"nbRetourPagePrecedente\":0.0},{\"id\":115,\"label\":0,\"chrono\":171.0,\"nbRetour\":1.0,\"nbRetourPagePrecedente\":0.0},{\"id\":116,\"label\":0,\"chrono\":109.0,\"nbRetour\":0.0,\"nbRetourPagePrecedente\":1.0},{\"id\":117,\"label\":0,\"chrono\":175.0,\"nbRetour\":0.0,\"nbRetourPagePrecedente\":4.0},{\"id\":118,\"label\":0,\"chrono\":77.0,\"nbRetour\":0.0,\"nbRetourPagePrecedente\":1.0},{\"id\":119,\"label\":0,\"chrono\":279.0,\"nbRetour\":1.0,\"nbRetourPagePrecedente\":0.0},{\"id\":120,\"label\":0,\"chrono\":326.0,\"nbRetour\":1.0,\"nbRetourPagePrecedente\":1.0},{\"id\":121,\"label\":1,\"chrono\":395.0,\"nbRetour\":5.0,\"nbRetourPagePrecedente\":11.0},{\"id\":122,\"label\":0,\"chrono\":232.0,\"nbRetour\":0.0,\"nbRetourPagePrecedente\":0.0},{\"id\":123,\"label\":1,\"chrono\":267.0,\"nbRetour\":1.0,\"nbRetourPagePrecedente\":10.0},{\"id\":124,\"label\":1,\"chrono\":695.0,\"nbRetour\":15.0,\"nbRetourPagePrecedente\":11.0},{\"id\":125,\"label\":1,\"chrono\":411.0,\"nbRetour\":3.0,\"nbRetourPagePrecedente\":8.0},{\"id\":126,\"label\":0,\"chrono\":239.0,\"nbRetour\":0.0,\"nbRetourPagePrecedente\":2.0},{\"id\":127,\"label\":0,\"chrono\":176.0,\"nbRetour\":2.0,\"nbRetourPagePrecedente\":3.0},{\"id\":128,\"label\":0,\"chrono\":271.0,\"nbRetour\":0.0,\"nbRetourPagePrecedente\":0.0},{\"id\":129,\"label\":0,\"chrono\":226.0,\"nbRetour\":0.0,\"nbRetourPagePrecedente\":2.0},{\"id\":130,\"label\":1,\"chrono\":449.0,\"nbRetour\":11.0,\"nbRetourPagePrecedente\":7.0},{\"id\":131,\"label\":1,\"chrono\":488.0,\"nbRetour\":5.0,\"nbRetourPagePrecedente\":8.0},{\"id\":132,\"label\":0,\"chrono\":245.0,\"nbRetour\":1.0,\"nbRetourPagePrecedente\":1.0},{\"id\":133,\"label\":1,\"chrono\":451.0,\"nbRetour\":4.0,\"nbRetourPagePrecedente\":15.0},{\"id\":134,\"label\":0,\"chrono\":234.0,\"nbRetour\":1.0,\"nbRetourPagePrecedente\":3.0},{\"id\":135,\"label\":0,\"chrono\":1.0,\"nbRetour\":1.0,\"nbRetourPagePrecedente\":0.0},{\"id\":136,\"label\":1,\"chrono\":357.0,\"nbRetour\":7.0,\"nbRetourPagePrecedente\":16.0},{\"id\":137,\"label\":0,\"chrono\":160.0,\"nbRetour\":0.0,\"nbRetourPagePrecedente\":2.0},{\"id\":138,\"label\":1,\"chrono\":583.0,\"nbRetour\":13.0,\"nbRetourPagePrecedente\":11.0},{\"id\":139,\"label\":1,\"chrono\":488.0,\"nbRetour\":11.0,\"nbRetourPagePrecedente\":13.0},{\"id\":140,\"label\":0,\"chrono\":294.0,\"nbRetour\":0.0,\"nbRetourPagePrecedente\":1.0},{\"id\":141,\"label\":0,\"chrono\":57.0,\"nbRetour\":1.0,\"nbRetourPagePrecedente\":1.0},{\"id\":142,\"label\":0,\"chrono\":184.0,\"nbRetour\":0.0,\"nbRetourPagePrecedente\":2.0},{\"id\":143,\"label\":1,\"chrono\":672.0,\"nbRetour\":1.0,\"nbRetourPagePrecedente\":5.0},{\"id\":144,\"label\":0,\"chrono\":253.0,\"nbRetour\":0.0,\"nbRetourPagePrecedente\":0.0},{\"id\":145,\"label\":0,\"chrono\":13.0,\"nbRetour\":0.0,\"nbRetourPagePrecedente\":0.0},{\"id\":146,\"label\":0,\"chrono\":203.0,\"nbRetour\":1.0,\"nbRetourPagePrecedente\":1.0},{\"id\":147,\"label\":0,\"chrono\":91.0,\"nbRetour\":1.0,\"nbRetourPagePrecedente\":1.0},{\"id\":148,\"label\":0,\"chrono\":67.0,\"nbRetour\":1.0,\"nbRetourPagePrecedente\":0.0},{\"id\":149,\"label\":1,\"chrono\":471.0,\"nbRetour\":17.0,\"nbRetourPagePrecedente\":7.0},{\"id\":150,\"label\":1,\"chrono\":396.0,\"nbRetour\":10.0,\"nbRetourPagePrecedente\":15.0},{\"id\":151,\"label\":1,\"chrono\":218.0,\"nbRetour\":14.0,\"nbRetourPagePrecedente\":12.0},{\"id\":152,\"label\":1,\"chrono\":506.0,\"nbRetour\":10.0,\"nbRetourPagePrecedente\":14.0},{\"id\":153,\"label\":0,\"chrono\":146.0,\"nbRetour\":0.0,\"nbRetourPagePrecedente\":0.0},{\"id\":154,\"label\":1,\"chrono\":392.0,\"nbRetour\":18.0,\"nbRetourPagePrecedente\":8.0},{\"id\":155,\"label\":0,\"chrono\":180.0,\"nbRetour\":0.0,\"nbRetourPagePrecedente\":0.0},{\"id\":156,\"label\":1,\"chrono\":544.0,\"nbRetour\":15.0,\"nbRetourPagePrecedente\":15.0},{\"id\":157,\"label\":1,\"chrono\":594.0,\"nbRetour\":7.0,\"nbRetourPagePrecedente\":14.0},{\"id\":158,\"label\":0,\"chrono\":207.0,\"nbRetour\":0.0,\"nbRetourPagePrecedente\":4.0},{\"id\":159,\"label\":0,\"chrono\":232.0,\"nbRetour\":0.0,\"nbRetourPagePrecedente\":1.0},{\"id\":160,\"label\":1,\"chrono\":421.0,\"nbRetour\":17.0,\"nbRetourPagePrecedente\":4.0},{\"id\":161,\"label\":1,\"chrono\":386.0,\"nbRetour\":14.0,\"nbRetourPagePrecedente\":10.0},{\"id\":162,\"label\":1,\"chrono\":422.0,\"nbRetour\":3.0,\"nbRetourPagePrecedente\":12.0},{\"id\":163,\"label\":1,\"chrono\":552.0,\"nbRetour\":12.0,\"nbRetourPagePrecedente\":5.0},{\"id\":164,\"label\":0,\"chrono\":176.0,\"nbRetour\":0.0,\"nbRetourPagePrecedente\":2.0},{\"id\":165,\"label\":1,\"chrono\":564.0,\"nbRetour\":12.0,\"nbRetourPagePrecedente\":13.0},{\"id\":166,\"label\":0,\"chrono\":109.0,\"nbRetour\":2.0,\"nbRetourPagePrecedente\":0.0},{\"id\":167,\"label\":0,\"chrono\":247.0,\"nbRetour\":0.0,\"nbRetourPagePrecedente\":3.0},{\"id\":168,\"label\":1,\"chrono\":616.0,\"nbRetour\":10.0,\"nbRetourPagePrecedente\":9.0},{\"id\":169,\"label\":0,\"chrono\":237.0,\"nbRetour\":1.0,\"nbRetourPagePrecedente\":2.0},{\"id\":170,\"label\":1,\"chrono\":375.0,\"nbRetour\":15.0,\"nbRetourPagePrecedente\":18.0},{\"id\":171,\"label\":1,\"chrono\":618.0,\"nbRetour\":6.0,\"nbRetourPagePrecedente\":5.0},{\"id\":172,\"label\":0,\"chrono\":191.0,\"nbRetour\":0.0,\"nbRetourPagePrecedente\":2.0},{\"id\":173,\"label\":1,\"chrono\":374.0,\"nbRetour\":3.0,\"nbRetourPagePrecedente\":12.0},{\"id\":174,\"label\":0,\"chrono\":197.0,\"nbRetour\":0.0,\"nbRetourPagePrecedente\":1.0},{\"id\":175,\"label\":1,\"chrono\":357.0,\"nbRetour\":11.0,\"nbRetourPagePrecedente\":13.0},{\"id\":176,\"label\":0,\"chrono\":5.0,\"nbRetour\":1.0,\"nbRetourPagePrecedente\":0.0},{\"id\":177,\"label\":0,\"chrono\":42.0,\"nbRetour\":1.0,\"nbRetourPagePrecedente\":0.0},{\"id\":178,\"label\":0,\"chrono\":286.0,\"nbRetour\":0.0,\"nbRetourPagePrecedente\":0.0},{\"id\":179,\"label\":1,\"chrono\":501.0,\"nbRetour\":16.0,\"nbRetourPagePrecedente\":9.0},{\"id\":180,\"label\":0,\"chrono\":135.0,\"nbRetour\":0.0,\"nbRetourPagePrecedente\":0.0},{\"id\":181,\"label\":0,\"chrono\":69.0,\"nbRetour\":1.0,\"nbRetourPagePrecedente\":0.0},{\"id\":182,\"label\":1,\"chrono\":499.0,\"nbRetour\":10.0,\"nbRetourPagePrecedente\":8.0},{\"id\":183,\"label\":1,\"chrono\":341.0,\"nbRetour\":7.0,\"nbRetourPagePrecedente\":6.0},{\"id\":184,\"label\":0,\"chrono\":37.0,\"nbRetour\":0.0,\"nbRetourPagePrecedente\":0.0},{\"id\":185,\"label\":1,\"chrono\":457.0,\"nbRetour\":4.0,\"nbRetourPagePrecedente\":2.0},{\"id\":186,\"label\":1,\"chrono\":393.0,\"nbRetour\":18.0,\"nbRetourPagePrecedente\":13.0},{\"id\":187,\"label\":0,\"chrono\":187.0,\"nbRetour\":0.0,\"nbRetourPagePrecedente\":2.0},{\"id\":188,\"label\":1,\"chrono\":475.0,\"nbRetour\":6.0,\"nbRetourPagePrecedente\":6.0},{\"id\":189,\"label\":1,\"chrono\":591.0,\"nbRetour\":7.0,\"nbRetourPagePrecedente\":10.0},{\"id\":190,\"label\":0,\"chrono\":263.0,\"nbRetour\":0.0,\"nbRetourPagePrecedente\":0.0},{\"id\":191,\"label\":0,\"chrono\":136.0,\"nbRetour\":1.0,\"nbRetourPagePrecedente\":1.0},{\"id\":192,\"label\":1,\"chrono\":639.0,\"nbRetour\":16.0,\"nbRetourPagePrecedente\":13.0},{\"id\":193,\"label\":1,\"chrono\":381.0,\"nbRetour\":10.0,\"nbRetourPagePrecedente\":8.0},{\"id\":194,\"label\":1,\"chrono\":360.0,\"nbRetour\":14.0,\"nbRetourPagePrecedente\":15.0},{\"id\":195,\"label\":0,\"chrono\":534.0,\"nbRetour\":0.0,\"nbRetourPagePrecedente\":0.0},{\"id\":196,\"label\":1,\"chrono\":591.0,\"nbRetour\":16.0,\"nbRetourPagePrecedente\":15.0},{\"id\":197,\"label\":1,\"chrono\":709.0,\"nbRetour\":11.0,\"nbRetourPagePrecedente\":11.0},{\"id\":198,\"label\":1,\"chrono\":455.0,\"nbRetour\":6.0,\"nbRetourPagePrecedente\":5.0},{\"id\":199,\"label\":1,\"chrono\":519.0,\"nbRetour\":16.0,\"nbRetourPagePrecedente\":12.0},{\"id\":200,\"label\":1,\"chrono\":699.0,\"nbRetour\":15.0,\"nbRetourPagePrecedente\":5.0},{\"id\":201,\"label\":0,\"chrono\":70.0,\"nbRetour\":1.0,\"nbRetourPagePrecedente\":0.0},{\"id\":202,\"label\":0,\"chrono\":352.0,\"nbRetour\":0.0,\"nbRetourPagePrecedente\":4.0},{\"id\":203,\"label\":1,\"chrono\":401.0,\"nbRetour\":16.0,\"nbRetourPagePrecedente\":2.0},{\"id\":204,\"label\":1,\"chrono\":450.0,\"nbRetour\":6.0,\"nbRetourPagePrecedente\":12.0},{\"id\":205,\"label\":0,\"chrono\":164.0,\"nbRetour\":0.0,\"nbRetourPagePrecedente\":1.0},{\"id\":206,\"label\":0,\"chrono\":263.0,\"nbRetour\":0.0,\"nbRetourPagePrecedente\":0.0},{\"id\":207,\"label\":1,\"chrono\":351.0,\"nbRetour\":9.0,\"nbRetourPagePrecedente\":10.0},{\"id\":208,\"label\":0,\"chrono\":240.0,\"nbRetour\":0.0,\"nbRetourPagePrecedente\":0.0},{\"id\":209,\"label\":0,\"chrono\":271.0,\"nbRetour\":0.0,\"nbRetourPagePrecedente\":0.0},{\"id\":210,\"label\":0,\"chrono\":249.0,\"nbRetour\":2.0,\"nbRetourPagePrecedente\":3.0},{\"id\":211,\"label\":0,\"chrono\":237.0,\"nbRetour\":0.0,\"nbRetourPagePrecedente\":2.0},{\"id\":212,\"label\":0,\"chrono\":88.0,\"nbRetour\":1.0,\"nbRetourPagePrecedente\":0.0},{\"id\":213,\"label\":1,\"chrono\":400.0,\"nbRetour\":4.0,\"nbRetourPagePrecedente\":15.0},{\"id\":214,\"label\":1,\"chrono\":475.0,\"nbRetour\":13.0,\"nbRetourPagePrecedente\":11.0},{\"id\":215,\"label\":1,\"chrono\":654.0,\"nbRetour\":14.0,\"nbRetourPagePrecedente\":11.0},{\"id\":216,\"label\":1,\"chrono\":316.0,\"nbRetour\":8.0,\"nbRetourPagePrecedente\":8.0},{\"id\":217,\"label\":1,\"chrono\":631.0,\"nbRetour\":15.0,\"nbRetourPagePrecedente\":7.0},{\"id\":218,\"label\":0,\"chrono\":486.0,\"nbRetour\":0.0,\"nbRetourPagePrecedente\":1.0},{\"id\":219,\"label\":0,\"chrono\":80.0,\"nbRetour\":0.0,\"nbRetourPagePrecedente\":3.0},{\"id\":220,\"label\":0,\"chrono\":333.0,\"nbRetour\":0.0,\"nbRetourPagePrecedente\":1.0},{\"id\":221,\"label\":0,\"chrono\":199.0,\"nbRetour\":0.0,\"nbRetourPagePrecedente\":2.0},{\"id\":222,\"label\":0,\"chrono\":123.0,\"nbRetour\":0.0,\"nbRetourPagePrecedente\":0.0},{\"id\":223,\"label\":1,\"chrono\":548.0,\"nbRetour\":12.0,\"nbRetourPagePrecedente\":12.0},{\"id\":224,\"label\":0,\"chrono\":414.0,\"nbRetour\":1.0,\"nbRetourPagePrecedente\":2.0},{\"id\":225,\"label\":1,\"chrono\":527.0,\"nbRetour\":13.0,\"nbRetourPagePrecedente\":13.0},{\"id\":226,\"label\":1,\"chrono\":263.0,\"nbRetour\":5.0,\"nbRetourPagePrecedente\":6.0},{\"id\":227,\"label\":0,\"chrono\":171.0,\"nbRetour\":0.0,\"nbRetourPagePrecedente\":2.0},{\"id\":228,\"label\":0,\"chrono\":60.0,\"nbRetour\":1.0,\"nbRetourPagePrecedente\":0.0},{\"id\":229,\"label\":0,\"chrono\":364.0,\"nbRetour\":1.0,\"nbRetourPagePrecedente\":0.0},{\"id\":230,\"label\":1,\"chrono\":624.0,\"nbRetour\":6.0,\"nbRetourPagePrecedente\":4.0},{\"id\":231,\"label\":1,\"chrono\":540.0,\"nbRetour\":11.0,\"nbRetourPagePrecedente\":14.0},{\"id\":232,\"label\":0,\"chrono\":32.0,\"nbRetour\":0.0,\"nbRetourPagePrecedente\":0.0},{\"id\":233,\"label\":1,\"chrono\":370.0,\"nbRetour\":0.0,\"nbRetourPagePrecedente\":5.0},{\"id\":234,\"label\":0,\"chrono\":419.0,\"nbRetour\":0.0,\"nbRetourPagePrecedente\":0.0},{\"id\":235,\"label\":0,\"chrono\":191.0,\"nbRetour\":0.0,\"nbRetourPagePrecedente\":0.0},{\"id\":236,\"label\":1,\"chrono\":469.0,\"nbRetour\":11.0,\"nbRetourPagePrecedente\":14.0},{\"id\":237,\"label\":1,\"chrono\":630.0,\"nbRetour\":12.0,\"nbRetourPagePrecedente\":9.0},{\"id\":238,\"label\":1,\"chrono\":575.0,\"nbRetour\":9.0,\"nbRetourPagePrecedente\":9.0},{\"id\":239,\"label\":0,\"chrono\":361.0,\"nbRetour\":0.0,\"nbRetourPagePrecedente\":2.0},{\"id\":240,\"label\":1,\"chrono\":518.0,\"nbRetour\":10.0,\"nbRetourPagePrecedente\":17.0},{\"id\":241,\"label\":1,\"chrono\":671.0,\"nbRetour\":9.0,\"nbRetourPagePrecedente\":15.0},{\"id\":242,\"label\":0,\"chrono\":293.0,\"nbRetour\":0.0,\"nbRetourPagePrecedente\":2.0},{\"id\":243,\"label\":0,\"chrono\":211.0,\"nbRetour\":0.0,\"nbRetourPagePrecedente\":1.0},{\"id\":244,\"label\":0,\"chrono\":85.0,\"nbRetour\":0.0,\"nbRetourPagePrecedente\":1.0},{\"id\":245,\"label\":0,\"chrono\":187.0,\"nbRetour\":0.0,\"nbRetourPagePrecedente\":2.0},{\"id\":246,\"label\":1,\"chrono\":501.0,\"nbRetour\":8.0,\"nbRetourPagePrecedente\":12.0},{\"id\":247,\"label\":0,\"chrono\":217.0,\"nbRetour\":0.0,\"nbRetourPagePrecedente\":0.0},{\"id\":248,\"label\":1,\"chrono\":419.0,\"nbRetour\":13.0,\"nbRetourPagePrecedente\":15.0},{\"id\":249,\"label\":1,\"chrono\":360.0,\"nbRetour\":9.0,\"nbRetourPagePrecedente\":4.0},{\"id\":250,\"label\":1,\"chrono\":593.0,\"nbRetour\":11.0,\"nbRetourPagePrecedente\":4.0},{\"id\":251,\"label\":1,\"chrono\":389.0,\"nbRetour\":15.0,\"nbRetourPagePrecedente\":6.0},{\"id\":252,\"label\":1,\"chrono\":272.0,\"nbRetour\":9.0,\"nbRetourPagePrecedente\":2.0},{\"id\":253,\"label\":0,\"chrono\":51.0,\"nbRetour\":0.0,\"nbRetourPagePrecedente\":2.0},{\"id\":254,\"label\":1,\"chrono\":527.0,\"nbRetour\":12.0,\"nbRetourPagePrecedente\":9.0},{\"id\":255,\"label\":0,\"chrono\":86.0,\"nbRetour\":0.0,\"nbRetourPagePrecedente\":2.0},{\"id\":256,\"label\":1,\"chrono\":446.0,\"nbRetour\":8.0,\"nbRetourPagePrecedente\":4.0},{\"id\":257,\"label\":1,\"chrono\":477.0,\"nbRetour\":2.0,\"nbRetourPagePrecedente\":8.0},{\"id\":258,\"label\":0,\"chrono\":170.0,\"nbRetour\":1.0,\"nbRetourPagePrecedente\":1.0},{\"id\":259,\"label\":1,\"chrono\":251.0,\"nbRetour\":7.0,\"nbRetourPagePrecedente\":0.0},{\"id\":260,\"label\":0,\"chrono\":321.0,\"nbRetour\":0.0,\"nbRetourPagePrecedente\":0.0},{\"id\":261,\"label\":0,\"chrono\":99.0,\"nbRetour\":0.0,\"nbRetourPagePrecedente\":0.0},{\"id\":262,\"label\":1,\"chrono\":421.0,\"nbRetour\":12.0,\"nbRetourPagePrecedente\":6.0},{\"id\":263,\"label\":0,\"chrono\":148.0,\"nbRetour\":0.0,\"nbRetourPagePrecedente\":0.0},{\"id\":264,\"label\":0,\"chrono\":294.0,\"nbRetour\":0.0,\"nbRetourPagePrecedente\":1.0},{\"id\":265,\"label\":0,\"chrono\":303.0,\"nbRetour\":0.0,\"nbRetourPagePrecedente\":1.0},{\"id\":266,\"label\":0,\"chrono\":116.0,\"nbRetour\":0.0,\"nbRetourPagePrecedente\":0.0},{\"id\":267,\"label\":1,\"chrono\":484.0,\"nbRetour\":7.0,\"nbRetourPagePrecedente\":12.0},{\"id\":268,\"label\":1,\"chrono\":427.0,\"nbRetour\":14.0,\"nbRetourPagePrecedente\":16.0},{\"id\":269,\"label\":1,\"chrono\":466.0,\"nbRetour\":11.0,\"nbRetourPagePrecedente\":6.0},{\"id\":270,\"label\":1,\"chrono\":322.0,\"nbRetour\":15.0,\"nbRetourPagePrecedente\":6.0},{\"id\":271,\"label\":0,\"chrono\":300.0,\"nbRetour\":0.0,\"nbRetourPagePrecedente\":1.0},{\"id\":272,\"label\":1,\"chrono\":746.0,\"nbRetour\":5.0,\"nbRetourPagePrecedente\":12.0},{\"id\":273,\"label\":0,\"chrono\":77.0,\"nbRetour\":0.0,\"nbRetourPagePrecedente\":1.0},{\"id\":274,\"label\":0,\"chrono\":144.0,\"nbRetour\":1.0,\"nbRetourPagePrecedente\":0.0},{\"id\":275,\"label\":0,\"chrono\":135.0,\"nbRetour\":1.0,\"nbRetourPagePrecedente\":0.0},{\"id\":276,\"label\":0,\"chrono\":389.0,\"nbRetour\":0.0,\"nbRetourPagePrecedente\":0.0},{\"id\":277,\"label\":1,\"chrono\":600.0,\"nbRetour\":8.0,\"nbRetourPagePrecedente\":13.0},{\"id\":278,\"label\":1,\"chrono\":564.0,\"nbRetour\":7.0,\"nbRetourPagePrecedente\":11.0},{\"id\":279,\"label\":0,\"chrono\":156.0,\"nbRetour\":0.0,\"nbRetourPagePrecedente\":1.0},{\"id\":280,\"label\":1,\"chrono\":653.0,\"nbRetour\":6.0,\"nbRetourPagePrecedente\":9.0},{\"id\":281,\"label\":0,\"chrono\":200.0,\"nbRetour\":0.0,\"nbRetourPagePrecedente\":2.0},{\"id\":282,\"label\":1,\"chrono\":519.0,\"nbRetour\":17.0,\"nbRetourPagePrecedente\":7.0},{\"id\":283,\"label\":1,\"chrono\":184.0,\"nbRetour\":9.0,\"nbRetourPagePrecedente\":3.0},{\"id\":284,\"label\":0,\"chrono\":210.0,\"nbRetour\":1.0,\"nbRetourPagePrecedente\":0.0},{\"id\":285,\"label\":0,\"chrono\":236.0,\"nbRetour\":0.0,\"nbRetourPagePrecedente\":1.0},{\"id\":286,\"label\":1,\"chrono\":610.0,\"nbRetour\":12.0,\"nbRetourPagePrecedente\":11.0},{\"id\":287,\"label\":0,\"chrono\":46.0,\"nbRetour\":1.0,\"nbRetourPagePrecedente\":2.0},{\"id\":288,\"label\":1,\"chrono\":695.0,\"nbRetour\":2.0,\"nbRetourPagePrecedente\":9.0},{\"id\":289,\"label\":0,\"chrono\":108.0,\"nbRetour\":0.0,\"nbRetourPagePrecedente\":1.0},{\"id\":290,\"label\":0,\"chrono\":27.0,\"nbRetour\":0.0,\"nbRetourPagePrecedente\":0.0},{\"id\":291,\"label\":1,\"chrono\":383.0,\"nbRetour\":19.0,\"nbRetourPagePrecedente\":5.0},{\"id\":292,\"label\":0,\"chrono\":90.0,\"nbRetour\":0.0,\"nbRetourPagePrecedente\":1.0},{\"id\":293,\"label\":0,\"chrono\":148.0,\"nbRetour\":1.0,\"nbRetourPagePrecedente\":2.0},{\"id\":294,\"label\":0,\"chrono\":1.0,\"nbRetour\":1.0,\"nbRetourPagePrecedente\":1.0},{\"id\":295,\"label\":0,\"chrono\":105.0,\"nbRetour\":0.0,\"nbRetourPagePrecedente\":1.0},{\"id\":296,\"label\":0,\"chrono\":279.0,\"nbRetour\":0.0,\"nbRetourPagePrecedente\":0.0},{\"id\":297,\"label\":1,\"chrono\":537.0,\"nbRetour\":14.0,\"nbRetourPagePrecedente\":13.0},{\"id\":298,\"label\":0,\"chrono\":121.0,\"nbRetour\":0.0,\"nbRetourPagePrecedente\":1.0},{\"id\":299,\"label\":1,\"chrono\":387.0,\"nbRetour\":9.0,\"nbRetourPagePrecedente\":13.0}]\n"
     ]
    }
   ],
   "source": [
    "data = owners.reset_index().to_json(orient='records')\n",
    "print (data)\n",
    "with open('echantillon.json', 'w') as outfile:\n",
    "    json.dump(data, outfile)"
   ]
  },
  {
   "cell_type": "code",
   "execution_count": null,
   "metadata": {},
   "outputs": [],
   "source": []
  }
 ],
 "metadata": {
  "kernelspec": {
   "display_name": "Python 3",
   "language": "python",
   "name": "python3"
  },
  "language_info": {
   "codemirror_mode": {
    "name": "ipython",
    "version": 3
   },
   "file_extension": ".py",
   "mimetype": "text/x-python",
   "name": "python",
   "nbconvert_exporter": "python",
   "pygments_lexer": "ipython3",
   "version": "3.6.4"
  }
 },
 "nbformat": 4,
 "nbformat_minor": 2
}
